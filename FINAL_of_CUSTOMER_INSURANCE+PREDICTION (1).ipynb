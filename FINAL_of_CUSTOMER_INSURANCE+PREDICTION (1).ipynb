{
  "cells": [
    {
      "cell_type": "code",
      "execution_count": 3,
      "metadata": {
        "colab": {
          "base_uri": "https://localhost:8080/",
          "height": 139
        },
        "id": "X5X95_L48PoH",
        "outputId": "dd72baea-f2fc-4b19-d4ab-606cec242480"
      },
      "outputs": [
        {
          "output_type": "execute_result",
          "data": {
            "text/plain": [
              "'Guvi Datathon 1.0\\nCustomer Conversion Prediction\\nProblem Statement\\nYou are working for a new-age insurance company and employ\\nmultiple outreach plans to sell term insurance to your\\ncustomers. Telephonic marketing campaigns still remain one of\\nthe most effective ways to reach out to people however they\\nincur a lot of cost. Hence, it is important to identify the\\ncustomers that are most likely to convert beforehand so that\\nthey can be specifically targeted via call. We are given the\\nhistorical marketing data of the insurance company and are\\nrequired to build a ML model that will predict if a client will\\nsubscribe to the insurance.\\nData\\nThe historical sales data is available as a compressed file here.\\nData\\nFeatures:\\n● age (numeric)\\n● job : type of job\\n● marital : marital status\\n● educational_qual : education status\\n● call_type : contact communication type\\n● day: last contact day of the month (numeric)\\n● mon: last contact month of year\\n● dur: last contact duration, in seconds (numeric)\\n● num_calls: number of contacts performed during this\\ncampaign and for this client\\n● prev_outcome: outcome of the previous marketing\\ncampaign (categorical:\\n\"unknown\",\"other\",\"failure\",\"success\")\\nOutput variable (desired target):\\n● y - has the client subscribed to the insurance?\\nMinimum Requirements\\nIt is not sufficient to just fit a model - the model must be\\nanalysed to find the important factors that contribute towards\\nthe price. AUROC must be used as a metric to evaluate the\\nperformance of the models'"
            ],
            "application/vnd.google.colaboratory.intrinsic+json": {
              "type": "string"
            }
          },
          "metadata": {},
          "execution_count": 3
        }
      ],
      "source": [
        "\"\"\"Guvi Datathon 1.0\n",
        "Customer Conversion Prediction\n",
        "Problem Statement\n",
        "You are working for a new-age insurance company and employ\n",
        "multiple outreach plans to sell term insurance to your\n",
        "customers. Telephonic marketing campaigns still remain one of\n",
        "the most effective ways to reach out to people however they\n",
        "incur a lot of cost. Hence, it is important to identify the\n",
        "customers that are most likely to convert beforehand so that\n",
        "they can be specifically targeted via call. We are given the\n",
        "historical marketing data of the insurance company and are\n",
        "required to build a ML model that will predict if a client will\n",
        "subscribe to the insurance.\n",
        "Data\n",
        "The historical sales data is available as a compressed file here.\n",
        "Data\n",
        "Features:\n",
        "● age (numeric)\n",
        "● job : type of job\n",
        "● marital : marital status\n",
        "● educational_qual : education status\n",
        "● call_type : contact communication type\n",
        "● day: last contact day of the month (numeric)\n",
        "● mon: last contact month of year\n",
        "● dur: last contact duration, in seconds (numeric)\n",
        "● num_calls: number of contacts performed during this\n",
        "campaign and for this client\n",
        "● prev_outcome: outcome of the previous marketing\n",
        "campaign (categorical:\n",
        "\"unknown\",\"other\",\"failure\",\"success\")\n",
        "Output variable (desired target):\n",
        "● y - has the client subscribed to the insurance?\n",
        "Minimum Requirements\n",
        "It is not sufficient to just fit a model - the model must be\n",
        "analysed to find the important factors that contribute towards\n",
        "the price. AUROC must be used as a metric to evaluate the\n",
        "performance of the models\"\"\""
      ]
    },
    {
      "cell_type": "code",
      "source": [
        "#required packages\n",
        "\n",
        "import pandas as pd\n",
        "import numpy as np\n",
        "import statistics as st\n",
        "\n",
        "\n",
        "import matplotlib.pyplot as plt\n",
        "import seaborn as sns"
      ],
      "metadata": {
        "id": "FCZdXMqGhEM8"
      },
      "execution_count": 23,
      "outputs": []
    },
    {
      "cell_type": "code",
      "source": [
        "from google.colab import drive\n",
        "drive.mount('/content/drive')"
      ],
      "metadata": {
        "colab": {
          "base_uri": "https://localhost:8080/"
        },
        "id": "t4qB0u2DDPOg",
        "outputId": "b5da4030-70e7-401c-ba7d-bfb4db7f4dbd"
      },
      "execution_count": 5,
      "outputs": [
        {
          "output_type": "stream",
          "name": "stdout",
          "text": [
            "Mounted at /content/drive\n"
          ]
        }
      ]
    },
    {
      "cell_type": "code",
      "execution_count": 6,
      "metadata": {
        "id": "LbQNXWJH9Wfs",
        "colab": {
          "base_uri": "https://localhost:8080/",
          "height": 174
        },
        "outputId": "fce7373a-fc5c-473b-ab54-ab6e189ea71f"
      },
      "outputs": [
        {
          "output_type": "execute_result",
          "data": {
            "text/plain": [
              "   age           job  marital education_qual call_type  day  mon  dur  \\\n",
              "0   58    management  married       tertiary   unknown    5  may  261   \n",
              "1   44    technician   single      secondary   unknown    5  may  151   \n",
              "2   33  entrepreneur  married      secondary   unknown    5  may   76   \n",
              "3   47   blue-collar  married        unknown   unknown    5  may   92   \n",
              "\n",
              "   num_calls prev_outcome   y  \n",
              "0          1      unknown  no  \n",
              "1          1      unknown  no  \n",
              "2          1      unknown  no  \n",
              "3          1      unknown  no  "
            ],
            "text/html": [
              "\n",
              "  <div id=\"df-80a696dc-fe03-472e-ab16-2a995063a324\">\n",
              "    <div class=\"colab-df-container\">\n",
              "      <div>\n",
              "<style scoped>\n",
              "    .dataframe tbody tr th:only-of-type {\n",
              "        vertical-align: middle;\n",
              "    }\n",
              "\n",
              "    .dataframe tbody tr th {\n",
              "        vertical-align: top;\n",
              "    }\n",
              "\n",
              "    .dataframe thead th {\n",
              "        text-align: right;\n",
              "    }\n",
              "</style>\n",
              "<table border=\"1\" class=\"dataframe\">\n",
              "  <thead>\n",
              "    <tr style=\"text-align: right;\">\n",
              "      <th></th>\n",
              "      <th>age</th>\n",
              "      <th>job</th>\n",
              "      <th>marital</th>\n",
              "      <th>education_qual</th>\n",
              "      <th>call_type</th>\n",
              "      <th>day</th>\n",
              "      <th>mon</th>\n",
              "      <th>dur</th>\n",
              "      <th>num_calls</th>\n",
              "      <th>prev_outcome</th>\n",
              "      <th>y</th>\n",
              "    </tr>\n",
              "  </thead>\n",
              "  <tbody>\n",
              "    <tr>\n",
              "      <th>0</th>\n",
              "      <td>58</td>\n",
              "      <td>management</td>\n",
              "      <td>married</td>\n",
              "      <td>tertiary</td>\n",
              "      <td>unknown</td>\n",
              "      <td>5</td>\n",
              "      <td>may</td>\n",
              "      <td>261</td>\n",
              "      <td>1</td>\n",
              "      <td>unknown</td>\n",
              "      <td>no</td>\n",
              "    </tr>\n",
              "    <tr>\n",
              "      <th>1</th>\n",
              "      <td>44</td>\n",
              "      <td>technician</td>\n",
              "      <td>single</td>\n",
              "      <td>secondary</td>\n",
              "      <td>unknown</td>\n",
              "      <td>5</td>\n",
              "      <td>may</td>\n",
              "      <td>151</td>\n",
              "      <td>1</td>\n",
              "      <td>unknown</td>\n",
              "      <td>no</td>\n",
              "    </tr>\n",
              "    <tr>\n",
              "      <th>2</th>\n",
              "      <td>33</td>\n",
              "      <td>entrepreneur</td>\n",
              "      <td>married</td>\n",
              "      <td>secondary</td>\n",
              "      <td>unknown</td>\n",
              "      <td>5</td>\n",
              "      <td>may</td>\n",
              "      <td>76</td>\n",
              "      <td>1</td>\n",
              "      <td>unknown</td>\n",
              "      <td>no</td>\n",
              "    </tr>\n",
              "    <tr>\n",
              "      <th>3</th>\n",
              "      <td>47</td>\n",
              "      <td>blue-collar</td>\n",
              "      <td>married</td>\n",
              "      <td>unknown</td>\n",
              "      <td>unknown</td>\n",
              "      <td>5</td>\n",
              "      <td>may</td>\n",
              "      <td>92</td>\n",
              "      <td>1</td>\n",
              "      <td>unknown</td>\n",
              "      <td>no</td>\n",
              "    </tr>\n",
              "  </tbody>\n",
              "</table>\n",
              "</div>\n",
              "      <button class=\"colab-df-convert\" onclick=\"convertToInteractive('df-80a696dc-fe03-472e-ab16-2a995063a324')\"\n",
              "              title=\"Convert this dataframe to an interactive table.\"\n",
              "              style=\"display:none;\">\n",
              "        \n",
              "  <svg xmlns=\"http://www.w3.org/2000/svg\" height=\"24px\"viewBox=\"0 0 24 24\"\n",
              "       width=\"24px\">\n",
              "    <path d=\"M0 0h24v24H0V0z\" fill=\"none\"/>\n",
              "    <path d=\"M18.56 5.44l.94 2.06.94-2.06 2.06-.94-2.06-.94-.94-2.06-.94 2.06-2.06.94zm-11 1L8.5 8.5l.94-2.06 2.06-.94-2.06-.94L8.5 2.5l-.94 2.06-2.06.94zm10 10l.94 2.06.94-2.06 2.06-.94-2.06-.94-.94-2.06-.94 2.06-2.06.94z\"/><path d=\"M17.41 7.96l-1.37-1.37c-.4-.4-.92-.59-1.43-.59-.52 0-1.04.2-1.43.59L10.3 9.45l-7.72 7.72c-.78.78-.78 2.05 0 2.83L4 21.41c.39.39.9.59 1.41.59.51 0 1.02-.2 1.41-.59l7.78-7.78 2.81-2.81c.8-.78.8-2.07 0-2.86zM5.41 20L4 18.59l7.72-7.72 1.47 1.35L5.41 20z\"/>\n",
              "  </svg>\n",
              "      </button>\n",
              "      \n",
              "  <style>\n",
              "    .colab-df-container {\n",
              "      display:flex;\n",
              "      flex-wrap:wrap;\n",
              "      gap: 12px;\n",
              "    }\n",
              "\n",
              "    .colab-df-convert {\n",
              "      background-color: #E8F0FE;\n",
              "      border: none;\n",
              "      border-radius: 50%;\n",
              "      cursor: pointer;\n",
              "      display: none;\n",
              "      fill: #1967D2;\n",
              "      height: 32px;\n",
              "      padding: 0 0 0 0;\n",
              "      width: 32px;\n",
              "    }\n",
              "\n",
              "    .colab-df-convert:hover {\n",
              "      background-color: #E2EBFA;\n",
              "      box-shadow: 0px 1px 2px rgba(60, 64, 67, 0.3), 0px 1px 3px 1px rgba(60, 64, 67, 0.15);\n",
              "      fill: #174EA6;\n",
              "    }\n",
              "\n",
              "    [theme=dark] .colab-df-convert {\n",
              "      background-color: #3B4455;\n",
              "      fill: #D2E3FC;\n",
              "    }\n",
              "\n",
              "    [theme=dark] .colab-df-convert:hover {\n",
              "      background-color: #434B5C;\n",
              "      box-shadow: 0px 1px 3px 1px rgba(0, 0, 0, 0.15);\n",
              "      filter: drop-shadow(0px 1px 2px rgba(0, 0, 0, 0.3));\n",
              "      fill: #FFFFFF;\n",
              "    }\n",
              "  </style>\n",
              "\n",
              "      <script>\n",
              "        const buttonEl =\n",
              "          document.querySelector('#df-80a696dc-fe03-472e-ab16-2a995063a324 button.colab-df-convert');\n",
              "        buttonEl.style.display =\n",
              "          google.colab.kernel.accessAllowed ? 'block' : 'none';\n",
              "\n",
              "        async function convertToInteractive(key) {\n",
              "          const element = document.querySelector('#df-80a696dc-fe03-472e-ab16-2a995063a324');\n",
              "          const dataTable =\n",
              "            await google.colab.kernel.invokeFunction('convertToInteractive',\n",
              "                                                     [key], {});\n",
              "          if (!dataTable) return;\n",
              "\n",
              "          const docLinkHtml = 'Like what you see? Visit the ' +\n",
              "            '<a target=\"_blank\" href=https://colab.research.google.com/notebooks/data_table.ipynb>data table notebook</a>'\n",
              "            + ' to learn more about interactive tables.';\n",
              "          element.innerHTML = '';\n",
              "          dataTable['output_type'] = 'display_data';\n",
              "          await google.colab.output.renderOutput(dataTable, element);\n",
              "          const docLink = document.createElement('div');\n",
              "          docLink.innerHTML = docLinkHtml;\n",
              "          element.appendChild(docLink);\n",
              "        }\n",
              "      </script>\n",
              "    </div>\n",
              "  </div>\n",
              "  "
            ]
          },
          "metadata": {},
          "execution_count": 6
        }
      ],
      "source": [
        "#IMPORTNG DATAFRAME\n",
        "\n",
        "df=pd.read_csv(\"/content/drive/MyDrive/DATA SCIENCE PROJECTS/CUSTOMER INSURANCE PREDICTION/Customer Conversion Prediction - Customer Conversion Prediction.csv\")\n",
        "\n",
        "df1=df.head(4)\n",
        "df1"
      ]
    },
    {
      "cell_type": "code",
      "execution_count": 7,
      "metadata": {
        "colab": {
          "base_uri": "https://localhost:8080/"
        },
        "id": "NLDuuOpr-HhS",
        "outputId": "f78fa134-02ad-4b32-bdf7-f9b9b52eca04"
      },
      "outputs": [
        {
          "output_type": "stream",
          "name": "stdout",
          "text": [
            "<class 'pandas.core.frame.DataFrame'>\n",
            "RangeIndex: 45211 entries, 0 to 45210\n",
            "Data columns (total 11 columns):\n",
            " #   Column          Non-Null Count  Dtype \n",
            "---  ------          --------------  ----- \n",
            " 0   age             45211 non-null  int64 \n",
            " 1   job             45211 non-null  object\n",
            " 2   marital         45211 non-null  object\n",
            " 3   education_qual  45211 non-null  object\n",
            " 4   call_type       45211 non-null  object\n",
            " 5   day             45211 non-null  int64 \n",
            " 6   mon             45211 non-null  object\n",
            " 7   dur             45211 non-null  int64 \n",
            " 8   num_calls       45211 non-null  int64 \n",
            " 9   prev_outcome    45211 non-null  object\n",
            " 10  y               45211 non-null  object\n",
            "dtypes: int64(4), object(7)\n",
            "memory usage: 3.8+ MB\n"
          ]
        }
      ],
      "source": [
        "#checking null value\n",
        "df.info()"
      ]
    },
    {
      "cell_type": "markdown",
      "source": [],
      "metadata": {
        "id": "G3-XpxPNDVX7"
      }
    },
    {
      "cell_type": "code",
      "source": [
        "df.describe().T"
      ],
      "metadata": {
        "colab": {
          "base_uri": "https://localhost:8080/",
          "height": 174
        },
        "id": "zwE6qmrFjm76",
        "outputId": "dba3c85f-cb2c-4cb7-985c-5a92423d29f1"
      },
      "execution_count": 8,
      "outputs": [
        {
          "output_type": "execute_result",
          "data": {
            "text/plain": [
              "             count        mean         std   min    25%    50%    75%     max\n",
              "age        45211.0   40.936210   10.618762  18.0   33.0   39.0   48.0    95.0\n",
              "day        45211.0   15.806419    8.322476   1.0    8.0   16.0   21.0    31.0\n",
              "dur        45211.0  258.163080  257.527812   0.0  103.0  180.0  319.0  4918.0\n",
              "num_calls  45211.0    2.763841    3.098021   1.0    1.0    2.0    3.0    63.0"
            ],
            "text/html": [
              "\n",
              "  <div id=\"df-0ecea109-e6a7-43b4-998c-73d016c835a4\">\n",
              "    <div class=\"colab-df-container\">\n",
              "      <div>\n",
              "<style scoped>\n",
              "    .dataframe tbody tr th:only-of-type {\n",
              "        vertical-align: middle;\n",
              "    }\n",
              "\n",
              "    .dataframe tbody tr th {\n",
              "        vertical-align: top;\n",
              "    }\n",
              "\n",
              "    .dataframe thead th {\n",
              "        text-align: right;\n",
              "    }\n",
              "</style>\n",
              "<table border=\"1\" class=\"dataframe\">\n",
              "  <thead>\n",
              "    <tr style=\"text-align: right;\">\n",
              "      <th></th>\n",
              "      <th>count</th>\n",
              "      <th>mean</th>\n",
              "      <th>std</th>\n",
              "      <th>min</th>\n",
              "      <th>25%</th>\n",
              "      <th>50%</th>\n",
              "      <th>75%</th>\n",
              "      <th>max</th>\n",
              "    </tr>\n",
              "  </thead>\n",
              "  <tbody>\n",
              "    <tr>\n",
              "      <th>age</th>\n",
              "      <td>45211.0</td>\n",
              "      <td>40.936210</td>\n",
              "      <td>10.618762</td>\n",
              "      <td>18.0</td>\n",
              "      <td>33.0</td>\n",
              "      <td>39.0</td>\n",
              "      <td>48.0</td>\n",
              "      <td>95.0</td>\n",
              "    </tr>\n",
              "    <tr>\n",
              "      <th>day</th>\n",
              "      <td>45211.0</td>\n",
              "      <td>15.806419</td>\n",
              "      <td>8.322476</td>\n",
              "      <td>1.0</td>\n",
              "      <td>8.0</td>\n",
              "      <td>16.0</td>\n",
              "      <td>21.0</td>\n",
              "      <td>31.0</td>\n",
              "    </tr>\n",
              "    <tr>\n",
              "      <th>dur</th>\n",
              "      <td>45211.0</td>\n",
              "      <td>258.163080</td>\n",
              "      <td>257.527812</td>\n",
              "      <td>0.0</td>\n",
              "      <td>103.0</td>\n",
              "      <td>180.0</td>\n",
              "      <td>319.0</td>\n",
              "      <td>4918.0</td>\n",
              "    </tr>\n",
              "    <tr>\n",
              "      <th>num_calls</th>\n",
              "      <td>45211.0</td>\n",
              "      <td>2.763841</td>\n",
              "      <td>3.098021</td>\n",
              "      <td>1.0</td>\n",
              "      <td>1.0</td>\n",
              "      <td>2.0</td>\n",
              "      <td>3.0</td>\n",
              "      <td>63.0</td>\n",
              "    </tr>\n",
              "  </tbody>\n",
              "</table>\n",
              "</div>\n",
              "      <button class=\"colab-df-convert\" onclick=\"convertToInteractive('df-0ecea109-e6a7-43b4-998c-73d016c835a4')\"\n",
              "              title=\"Convert this dataframe to an interactive table.\"\n",
              "              style=\"display:none;\">\n",
              "        \n",
              "  <svg xmlns=\"http://www.w3.org/2000/svg\" height=\"24px\"viewBox=\"0 0 24 24\"\n",
              "       width=\"24px\">\n",
              "    <path d=\"M0 0h24v24H0V0z\" fill=\"none\"/>\n",
              "    <path d=\"M18.56 5.44l.94 2.06.94-2.06 2.06-.94-2.06-.94-.94-2.06-.94 2.06-2.06.94zm-11 1L8.5 8.5l.94-2.06 2.06-.94-2.06-.94L8.5 2.5l-.94 2.06-2.06.94zm10 10l.94 2.06.94-2.06 2.06-.94-2.06-.94-.94-2.06-.94 2.06-2.06.94z\"/><path d=\"M17.41 7.96l-1.37-1.37c-.4-.4-.92-.59-1.43-.59-.52 0-1.04.2-1.43.59L10.3 9.45l-7.72 7.72c-.78.78-.78 2.05 0 2.83L4 21.41c.39.39.9.59 1.41.59.51 0 1.02-.2 1.41-.59l7.78-7.78 2.81-2.81c.8-.78.8-2.07 0-2.86zM5.41 20L4 18.59l7.72-7.72 1.47 1.35L5.41 20z\"/>\n",
              "  </svg>\n",
              "      </button>\n",
              "      \n",
              "  <style>\n",
              "    .colab-df-container {\n",
              "      display:flex;\n",
              "      flex-wrap:wrap;\n",
              "      gap: 12px;\n",
              "    }\n",
              "\n",
              "    .colab-df-convert {\n",
              "      background-color: #E8F0FE;\n",
              "      border: none;\n",
              "      border-radius: 50%;\n",
              "      cursor: pointer;\n",
              "      display: none;\n",
              "      fill: #1967D2;\n",
              "      height: 32px;\n",
              "      padding: 0 0 0 0;\n",
              "      width: 32px;\n",
              "    }\n",
              "\n",
              "    .colab-df-convert:hover {\n",
              "      background-color: #E2EBFA;\n",
              "      box-shadow: 0px 1px 2px rgba(60, 64, 67, 0.3), 0px 1px 3px 1px rgba(60, 64, 67, 0.15);\n",
              "      fill: #174EA6;\n",
              "    }\n",
              "\n",
              "    [theme=dark] .colab-df-convert {\n",
              "      background-color: #3B4455;\n",
              "      fill: #D2E3FC;\n",
              "    }\n",
              "\n",
              "    [theme=dark] .colab-df-convert:hover {\n",
              "      background-color: #434B5C;\n",
              "      box-shadow: 0px 1px 3px 1px rgba(0, 0, 0, 0.15);\n",
              "      filter: drop-shadow(0px 1px 2px rgba(0, 0, 0, 0.3));\n",
              "      fill: #FFFFFF;\n",
              "    }\n",
              "  </style>\n",
              "\n",
              "      <script>\n",
              "        const buttonEl =\n",
              "          document.querySelector('#df-0ecea109-e6a7-43b4-998c-73d016c835a4 button.colab-df-convert');\n",
              "        buttonEl.style.display =\n",
              "          google.colab.kernel.accessAllowed ? 'block' : 'none';\n",
              "\n",
              "        async function convertToInteractive(key) {\n",
              "          const element = document.querySelector('#df-0ecea109-e6a7-43b4-998c-73d016c835a4');\n",
              "          const dataTable =\n",
              "            await google.colab.kernel.invokeFunction('convertToInteractive',\n",
              "                                                     [key], {});\n",
              "          if (!dataTable) return;\n",
              "\n",
              "          const docLinkHtml = 'Like what you see? Visit the ' +\n",
              "            '<a target=\"_blank\" href=https://colab.research.google.com/notebooks/data_table.ipynb>data table notebook</a>'\n",
              "            + ' to learn more about interactive tables.';\n",
              "          element.innerHTML = '';\n",
              "          dataTable['output_type'] = 'display_data';\n",
              "          await google.colab.output.renderOutput(dataTable, element);\n",
              "          const docLink = document.createElement('div');\n",
              "          docLink.innerHTML = docLinkHtml;\n",
              "          element.appendChild(docLink);\n",
              "        }\n",
              "      </script>\n",
              "    </div>\n",
              "  </div>\n",
              "  "
            ]
          },
          "metadata": {},
          "execution_count": 8
        }
      ]
    },
    {
      "cell_type": "code",
      "source": [
        "sns.set_style('darkgrid')\n",
        "sns.countplot(data=df,x='y')\n",
        "plt.show()"
      ],
      "metadata": {
        "colab": {
          "base_uri": "https://localhost:8080/",
          "height": 449
        },
        "id": "FPtGKZO3j1g3",
        "outputId": "7bed277b-ef8f-4bdc-8084-a58c44bac121"
      },
      "execution_count": 9,
      "outputs": [
        {
          "output_type": "display_data",
          "data": {
            "text/plain": [
              "<Figure size 640x480 with 1 Axes>"
            ],
            "image/png": "[encoded data removed]"
          },
          "metadata": {}
        }
      ]
    },
    {
      "cell_type": "markdown",
      "metadata": {
        "id": "-PKBzLH-98pt"
      },
      "source": [
        "**DATA CLEANING**"
      ]
    },
    {
      "cell_type": "code",
      "execution_count": 10,
      "metadata": {
        "colab": {
          "base_uri": "https://localhost:8080/",
          "height": 174
        },
        "id": "Mr1-JNuz-FMR",
        "outputId": "6aa1b644-e555-4a60-d3dc-fceabb8c136e"
      },
      "outputs": [
        {
          "output_type": "execute_result",
          "data": {
            "text/plain": [
              "   age           job  marital education_qual call_type  day  mon  dur  \\\n",
              "0   58    management  married       tertiary   unknown    5  may  261   \n",
              "1   44    technician   single      secondary   unknown    5  may  151   \n",
              "2   33  entrepreneur  married      secondary   unknown    5  may   76   \n",
              "3   47   blue-collar  married        unknown   unknown    5  may   92   \n",
              "\n",
              "   num_calls prev_outcome   y  \n",
              "0          1      unknown  no  \n",
              "1          1      unknown  no  \n",
              "2          1      unknown  no  \n",
              "3          1      unknown  no  "
            ],
            "text/html": [
              "\n",
              "  <div id=\"df-6f55463b-ba0c-4c32-9495-44342269a083\">\n",
              "    <div class=\"colab-df-container\">\n",
              "      <div>\n",
              "<style scoped>\n",
              "    .dataframe tbody tr th:only-of-type {\n",
              "        vertical-align: middle;\n",
              "    }\n",
              "\n",
              "    .dataframe tbody tr th {\n",
              "        vertical-align: top;\n",
              "    }\n",
              "\n",
              "    .dataframe thead th {\n",
              "        text-align: right;\n",
              "    }\n",
              "</style>\n",
              "<table border=\"1\" class=\"dataframe\">\n",
              "  <thead>\n",
              "    <tr style=\"text-align: right;\">\n",
              "      <th></th>\n",
              "      <th>age</th>\n",
              "      <th>job</th>\n",
              "      <th>marital</th>\n",
              "      <th>education_qual</th>\n",
              "      <th>call_type</th>\n",
              "      <th>day</th>\n",
              "      <th>mon</th>\n",
              "      <th>dur</th>\n",
              "      <th>num_calls</th>\n",
              "      <th>prev_outcome</th>\n",
              "      <th>y</th>\n",
              "    </tr>\n",
              "  </thead>\n",
              "  <tbody>\n",
              "    <tr>\n",
              "      <th>0</th>\n",
              "      <td>58</td>\n",
              "      <td>management</td>\n",
              "      <td>married</td>\n",
              "      <td>tertiary</td>\n",
              "      <td>unknown</td>\n",
              "      <td>5</td>\n",
              "      <td>may</td>\n",
              "      <td>261</td>\n",
              "      <td>1</td>\n",
              "      <td>unknown</td>\n",
              "      <td>no</td>\n",
              "    </tr>\n",
              "    <tr>\n",
              "      <th>1</th>\n",
              "      <td>44</td>\n",
              "      <td>technician</td>\n",
              "      <td>single</td>\n",
              "      <td>secondary</td>\n",
              "      <td>unknown</td>\n",
              "      <td>5</td>\n",
              "      <td>may</td>\n",
              "      <td>151</td>\n",
              "      <td>1</td>\n",
              "      <td>unknown</td>\n",
              "      <td>no</td>\n",
              "    </tr>\n",
              "    <tr>\n",
              "      <th>2</th>\n",
              "      <td>33</td>\n",
              "      <td>entrepreneur</td>\n",
              "      <td>married</td>\n",
              "      <td>secondary</td>\n",
              "      <td>unknown</td>\n",
              "      <td>5</td>\n",
              "      <td>may</td>\n",
              "      <td>76</td>\n",
              "      <td>1</td>\n",
              "      <td>unknown</td>\n",
              "      <td>no</td>\n",
              "    </tr>\n",
              "    <tr>\n",
              "      <th>3</th>\n",
              "      <td>47</td>\n",
              "      <td>blue-collar</td>\n",
              "      <td>married</td>\n",
              "      <td>unknown</td>\n",
              "      <td>unknown</td>\n",
              "      <td>5</td>\n",
              "      <td>may</td>\n",
              "      <td>92</td>\n",
              "      <td>1</td>\n",
              "      <td>unknown</td>\n",
              "      <td>no</td>\n",
              "    </tr>\n",
              "  </tbody>\n",
              "</table>\n",
              "</div>\n",
              "      <button class=\"colab-df-convert\" onclick=\"convertToInteractive('df-6f55463b-ba0c-4c32-9495-44342269a083')\"\n",
              "              title=\"Convert this dataframe to an interactive table.\"\n",
              "              style=\"display:none;\">\n",
              "        \n",
              "  <svg xmlns=\"http://www.w3.org/2000/svg\" height=\"24px\"viewBox=\"0 0 24 24\"\n",
              "       width=\"24px\">\n",
              "    <path d=\"M0 0h24v24H0V0z\" fill=\"none\"/>\n",
              "    <path d=\"M18.56 5.44l.94 2.06.94-2.06 2.06-.94-2.06-.94-.94-2.06-.94 2.06-2.06.94zm-11 1L8.5 8.5l.94-2.06 2.06-.94-2.06-.94L8.5 2.5l-.94 2.06-2.06.94zm10 10l.94 2.06.94-2.06 2.06-.94-2.06-.94-.94-2.06-.94 2.06-2.06.94z\"/><path d=\"M17.41 7.96l-1.37-1.37c-.4-.4-.92-.59-1.43-.59-.52 0-1.04.2-1.43.59L10.3 9.45l-7.72 7.72c-.78.78-.78 2.05 0 2.83L4 21.41c.39.39.9.59 1.41.59.51 0 1.02-.2 1.41-.59l7.78-7.78 2.81-2.81c.8-.78.8-2.07 0-2.86zM5.41 20L4 18.59l7.72-7.72 1.47 1.35L5.41 20z\"/>\n",
              "  </svg>\n",
              "      </button>\n",
              "      \n",
              "  <style>\n",
              "    .colab-df-container {\n",
              "      display:flex;\n",
              "      flex-wrap:wrap;\n",
              "      gap: 12px;\n",
              "    }\n",
              "\n",
              "    .colab-df-convert {\n",
              "      background-color: #E8F0FE;\n",
              "      border: none;\n",
              "      border-radius: 50%;\n",
              "      cursor: pointer;\n",
              "      display: none;\n",
              "      fill: #1967D2;\n",
              "      height: 32px;\n",
              "      padding: 0 0 0 0;\n",
              "      width: 32px;\n",
              "    }\n",
              "\n",
              "    .colab-df-convert:hover {\n",
              "      background-color: #E2EBFA;\n",
              "      box-shadow: 0px 1px 2px rgba(60, 64, 67, 0.3), 0px 1px 3px 1px rgba(60, 64, 67, 0.15);\n",
              "      fill: #174EA6;\n",
              "    }\n",
              "\n",
              "    [theme=dark] .colab-df-convert {\n",
              "      background-color: #3B4455;\n",
              "      fill: #D2E3FC;\n",
              "    }\n",
              "\n",
              "    [theme=dark] .colab-df-convert:hover {\n",
              "      background-color: #434B5C;\n",
              "      box-shadow: 0px 1px 3px 1px rgba(0, 0, 0, 0.15);\n",
              "      filter: drop-shadow(0px 1px 2px rgba(0, 0, 0, 0.3));\n",
              "      fill: #FFFFFF;\n",
              "    }\n",
              "  </style>\n",
              "\n",
              "      <script>\n",
              "        const buttonEl =\n",
              "          document.querySelector('#df-6f55463b-ba0c-4c32-9495-44342269a083 button.colab-df-convert');\n",
              "        buttonEl.style.display =\n",
              "          google.colab.kernel.accessAllowed ? 'block' : 'none';\n",
              "\n",
              "        async function convertToInteractive(key) {\n",
              "          const element = document.querySelector('#df-6f55463b-ba0c-4c32-9495-44342269a083');\n",
              "          const dataTable =\n",
              "            await google.colab.kernel.invokeFunction('convertToInteractive',\n",
              "                                                     [key], {});\n",
              "          if (!dataTable) return;\n",
              "\n",
              "          const docLinkHtml = 'Like what you see? Visit the ' +\n",
              "            '<a target=\"_blank\" href=https://colab.research.google.com/notebooks/data_table.ipynb>data table notebook</a>'\n",
              "            + ' to learn more about interactive tables.';\n",
              "          element.innerHTML = '';\n",
              "          dataTable['output_type'] = 'display_data';\n",
              "          await google.colab.output.renderOutput(dataTable, element);\n",
              "          const docLink = document.createElement('div');\n",
              "          docLink.innerHTML = docLinkHtml;\n",
              "          element.appendChild(docLink);\n",
              "        }\n",
              "      </script>\n",
              "    </div>\n",
              "  </div>\n",
              "  "
            ]
          },
          "metadata": {},
          "execution_count": 10
        }
      ],
      "source": [
        "df1"
      ]
    },
    {
      "cell_type": "code",
      "execution_count": 11,
      "metadata": {
        "colab": {
          "base_uri": "https://localhost:8080/"
        },
        "id": "F_hLSQq9-inS",
        "outputId": "d5feed93-d84d-4fcb-fea1-fc8171642291"
      },
      "outputs": [
        {
          "output_type": "stream",
          "name": "stdout",
          "text": [
            "(45211, 11)\n",
            "➤ The DataFrame(df) contains 45211 rows and 11 columns.\n"
          ]
        },
        {
          "output_type": "execute_result",
          "data": {
            "text/plain": [
              "Index(['age', 'job', 'marital', 'education_qual', 'call_type', 'day', 'mon',\n",
              "       'dur', 'num_calls', 'prev_outcome', 'y'],\n",
              "      dtype='object')"
            ]
          },
          "metadata": {},
          "execution_count": 11
        }
      ],
      "source": [
        "#classification problem \n",
        "\n",
        "print(df.shape)\n",
        "print(f'➤ The DataFrame(df) contains {df.shape[0]} rows and {df.shape[1]} columns.')\n",
        "\n",
        "\n",
        "df.columns\n"
      ]
    },
    {
      "cell_type": "code",
      "source": [
        "list_columns=df.columns\n",
        "for column in list_columns:\n",
        "  print(df[column].value_counts())"
      ],
      "metadata": {
        "colab": {
          "base_uri": "https://localhost:8080/"
        },
        "id": "RNJgq3WfF-AY",
        "outputId": "c04ac1a7-a654-4524-f024-c221d9ca5948"
      },
      "execution_count": 12,
      "outputs": [
        {
          "output_type": "stream",
          "name": "stdout",
          "text": [
            "32    2085\n",
            "31    1996\n",
            "33    1972\n",
            "34    1930\n",
            "35    1894\n",
            "      ... \n",
            "93       2\n",
            "90       2\n",
            "95       2\n",
            "88       2\n",
            "94       1\n",
            "Name: age, Length: 77, dtype: int64\n",
            "blue-collar      9732\n",
            "management       9458\n",
            "technician       7597\n",
            "admin.           5171\n",
            "services         4154\n",
            "retired          2264\n",
            "self-employed    1579\n",
            "entrepreneur     1487\n",
            "unemployed       1303\n",
            "housemaid        1240\n",
            "student           938\n",
            "unknown           288\n",
            "Name: job, dtype: int64\n",
            "married     27214\n",
            "single      12790\n",
            "divorced     5207\n",
            "Name: marital, dtype: int64\n",
            "secondary    23202\n",
            "tertiary     13301\n",
            "primary       6851\n",
            "unknown       1857\n",
            "Name: education_qual, dtype: int64\n",
            "cellular     29285\n",
            "unknown      13020\n",
            "telephone     2906\n",
            "Name: call_type, dtype: int64\n",
            "20    2752\n",
            "18    2308\n",
            "21    2026\n",
            "17    1939\n",
            "6     1932\n",
            "5     1910\n",
            "14    1848\n",
            "8     1842\n",
            "28    1830\n",
            "7     1817\n",
            "19    1757\n",
            "29    1745\n",
            "15    1703\n",
            "12    1603\n",
            "13    1585\n",
            "30    1566\n",
            "9     1561\n",
            "11    1479\n",
            "4     1445\n",
            "16    1415\n",
            "2     1293\n",
            "27    1121\n",
            "3     1079\n",
            "26    1035\n",
            "23     939\n",
            "22     905\n",
            "25     840\n",
            "31     643\n",
            "10     524\n",
            "24     447\n",
            "1      322\n",
            "Name: day, dtype: int64\n",
            "may    13766\n",
            "jul     6895\n",
            "aug     6247\n",
            "jun     5341\n",
            "nov     3970\n",
            "apr     2932\n",
            "feb     2649\n",
            "jan     1403\n",
            "oct      738\n",
            "sep      579\n",
            "mar      477\n",
            "dec      214\n",
            "Name: mon, dtype: int64\n",
            "124     188\n",
            "90      184\n",
            "89      177\n",
            "104     175\n",
            "122     175\n",
            "       ... \n",
            "1833      1\n",
            "1545      1\n",
            "1352      1\n",
            "1342      1\n",
            "1556      1\n",
            "Name: dur, Length: 1573, dtype: int64\n",
            "1     17544\n",
            "2     12505\n",
            "3      5521\n",
            "4      3522\n",
            "5      1764\n",
            "6      1291\n",
            "7       735\n",
            "8       540\n",
            "9       327\n",
            "10      266\n",
            "11      201\n",
            "12      155\n",
            "13      133\n",
            "14       93\n",
            "15       84\n",
            "16       79\n",
            "17       69\n",
            "18       51\n",
            "19       44\n",
            "20       43\n",
            "21       35\n",
            "22       23\n",
            "25       22\n",
            "23       22\n",
            "24       20\n",
            "29       16\n",
            "28       16\n",
            "26       13\n",
            "31       12\n",
            "27       10\n",
            "32        9\n",
            "30        8\n",
            "33        6\n",
            "34        5\n",
            "36        4\n",
            "35        4\n",
            "43        3\n",
            "38        3\n",
            "37        2\n",
            "50        2\n",
            "41        2\n",
            "46        1\n",
            "58        1\n",
            "55        1\n",
            "63        1\n",
            "51        1\n",
            "39        1\n",
            "44        1\n",
            "Name: num_calls, dtype: int64\n",
            "unknown    36959\n",
            "failure     4901\n",
            "other       1840\n",
            "success     1511\n",
            "Name: prev_outcome, dtype: int64\n",
            "no     39922\n",
            "yes     5289\n",
            "Name: y, dtype: int64\n"
          ]
        }
      ]
    },
    {
      "cell_type": "markdown",
      "source": [
        "since null values are present in string form \"unknown\" we need to replace it to null values and then filled not to loose th huge amount of values"
      ],
      "metadata": {
        "id": "PpthzH4kGOxZ"
      }
    },
    {
      "cell_type": "code",
      "execution_count": 13,
      "metadata": {
        "id": "5iHYVuA6_tdN"
      },
      "outputs": [],
      "source": [
        "df.columns\n",
        "#converting unknown values to None in which it will able to filled by numpy\n",
        "\n",
        "df[\"prev_outcome\"]=df[\"prev_outcome\"].replace({\"unknown\":None})\n",
        "\n",
        "df[\"job\"]=df[\"job\"].replace({\"unknown\":None})\n",
        "\n",
        "df[\"education_qual\"]=df[\"education_qual\"].replace({\"unknown\":None})\n",
        "\n",
        "df[\"call_type\"]=df[\"call_type\"].replace({\"unknown\":None})\n",
        "\n"
      ]
    },
    {
      "cell_type": "code",
      "execution_count": 14,
      "metadata": {
        "colab": {
          "base_uri": "https://localhost:8080/"
        },
        "id": "TYhzs6Cj_XZM",
        "outputId": "602ddcf5-389b-4be7-cf4c-a5bbab557024"
      },
      "outputs": [
        {
          "output_type": "execute_result",
          "data": {
            "text/plain": [
              "age                   0\n",
              "job                 288\n",
              "marital               0\n",
              "education_qual     1857\n",
              "call_type         13020\n",
              "day                   0\n",
              "mon                   0\n",
              "dur                   0\n",
              "num_calls             0\n",
              "prev_outcome      36959\n",
              "y                     0\n",
              "dtype: int64"
            ]
          },
          "metadata": {},
          "execution_count": 14
        }
      ],
      "source": [
        "df.isnull().sum()\n",
        "\n"
      ]
    },
    {
      "cell_type": "code",
      "execution_count": 15,
      "metadata": {
        "colab": {
          "base_uri": "https://localhost:8080/"
        },
        "id": "vXDZcQRKHu_u",
        "outputId": "14526eef-7ccd-4011-eeea-9188b51ba674"
      },
      "outputs": [
        {
          "output_type": "stream",
          "name": "stdout",
          "text": [
            "failure    4901\n",
            "other      1840\n",
            "success    1511\n",
            "Name: prev_outcome, dtype: int64\n"
          ]
        }
      ],
      "source": [
        "#filling missing values using most frquent values in respective columns\n",
        "\n",
        "\n",
        "\n",
        "df[\"job\"]=df[\"job\"].replace({None:st.mode(df[\"job\"])})\n",
        "\n",
        "df[\"education_qual\"]=df[\"education_qual\"].replace({None:st.mode(df[\"education_qual\"])})\n",
        "\n",
        "df[\"call_type\"]=df[\"call_type\"].replace({None:st.mode(df[\"call_type\"])})\n",
        "\n",
        "\n",
        "#st.mode(df[\"prev_outcome\"])    #since mode is None we select other than this\n",
        "\n",
        "print(df[\"prev_outcome\"].value_counts())  #most occuriing element is elected other than None\n",
        "\n",
        "#from the count we get \"failure\" is most occured one  4901\n",
        "\n",
        "df[\"prev_outcome\"]=df[\"prev_outcome\"].replace({None:\"failure\"})\n",
        "\n"
      ]
    },
    {
      "cell_type": "code",
      "source": [
        "list=df.columns\n",
        "  "
      ],
      "metadata": {
        "id": "p6JfMwAcs6tz"
      },
      "execution_count": 16,
      "outputs": []
    },
    {
      "cell_type": "code",
      "source": [
        "for column in list:\n",
        "  print(df[column].unique()) "
      ],
      "metadata": {
        "id": "dn2LsZAgxDuX",
        "colab": {
          "base_uri": "https://localhost:8080/"
        },
        "outputId": "5548b65e-2950-40dc-cede-52dcc6c6b07e"
      },
      "execution_count": 17,
      "outputs": [
        {
          "output_type": "stream",
          "name": "stdout",
          "text": [
            "[58 44 33 47 35 28 42 43 41 29 53 57 51 45 60 56 32 25 40 39 52 46 36 49\n",
            " 59 37 50 54 55 48 24 38 31 30 27 34 23 26 61 22 21 20 66 62 83 75 67 70\n",
            " 65 68 64 69 72 71 19 76 85 63 90 82 73 74 78 80 94 79 77 86 95 81 18 89\n",
            " 84 87 92 93 88]\n",
            "['management' 'technician' 'entrepreneur' 'blue-collar' 'retired' 'admin.'\n",
            " 'services' 'self-employed' 'unemployed' 'housemaid' 'student']\n",
            "['married' 'single' 'divorced']\n",
            "['tertiary' 'secondary' 'primary']\n",
            "['cellular' 'telephone']\n",
            "[ 5  6  7  8  9 12 13 14 15 16 19 20 21 23 26 27 28 29 30  2  3  4 11 17\n",
            " 18 24 25  1 10 22 31]\n",
            "['may' 'jun' 'jul' 'aug' 'oct' 'nov' 'dec' 'jan' 'feb' 'mar' 'apr' 'sep']\n",
            "[ 261  151   76 ... 1298 1246 1556]\n",
            "[ 1  2  3  5  4  6  7  8  9 10 11 12 13 19 14 24 16 32 18 22 15 17 25 21\n",
            " 43 51 63 41 26 28 55 50 38 23 20 29 31 37 30 46 27 58 33 35 34 36 39 44]\n",
            "['failure' 'other' 'success']\n",
            "['no' 'yes']\n"
          ]
        }
      ]
    },
    {
      "cell_type": "markdown",
      "metadata": {
        "id": "SzESFipaOO8a"
      },
      "source": [
        "**verification of null value presence**"
      ]
    },
    {
      "cell_type": "code",
      "execution_count": 18,
      "metadata": {
        "id": "OAzu8qfRS5lr",
        "colab": {
          "base_uri": "https://localhost:8080/"
        },
        "outputId": "a2f49aae-2d99-42d7-f3da-8d697fe10d95"
      },
      "outputs": [
        {
          "output_type": "execute_result",
          "data": {
            "text/plain": [
              "age               0\n",
              "job               0\n",
              "marital           0\n",
              "education_qual    0\n",
              "call_type         0\n",
              "day               0\n",
              "mon               0\n",
              "dur               0\n",
              "num_calls         0\n",
              "prev_outcome      0\n",
              "y                 0\n",
              "dtype: int64"
            ]
          },
          "metadata": {},
          "execution_count": 18
        }
      ],
      "source": [
        "df.isnull().sum()\n",
        "\n"
      ]
    },
    {
      "cell_type": "code",
      "execution_count": 19,
      "metadata": {
        "id": "8ZHxeWn7TDlV"
      },
      "outputs": [],
      "source": [
        "df=df.drop_duplicates()\n"
      ]
    },
    {
      "cell_type": "code",
      "execution_count": 20,
      "metadata": {
        "id": "mKLshnx2uoSt",
        "colab": {
          "base_uri": "https://localhost:8080/"
        },
        "outputId": "1e7c7f98-dc60-4f28-ec2d-63255e1fe330"
      },
      "outputs": [
        {
          "output_type": "execute_result",
          "data": {
            "text/plain": [
              "age                int64\n",
              "job               object\n",
              "marital           object\n",
              "education_qual    object\n",
              "call_type         object\n",
              "day                int64\n",
              "mon               object\n",
              "dur                int64\n",
              "num_calls          int64\n",
              "prev_outcome      object\n",
              "y                 object\n",
              "dtype: object"
            ]
          },
          "metadata": {},
          "execution_count": 20
        }
      ],
      "source": [
        "df.dtypes"
      ]
    },
    {
      "cell_type": "markdown",
      "metadata": {
        "id": "yxFFLzKUTqn4"
      },
      "source": [
        "DATA VISUALIZATION"
      ]
    },
    {
      "cell_type": "markdown",
      "metadata": {
        "id": "jHy-huXQT57N"
      },
      "source": [
        "CATEGORICAL VARIABLE\n"
      ]
    },
    {
      "cell_type": "code",
      "source": [
        "#since day in month is also a categorical variable  \n",
        "# a distinct category within the range of possible values\n",
        "\n",
        "df[\"day\"]=df[\"day\"].astype(str)"
      ],
      "metadata": {
        "colab": {
          "base_uri": "https://localhost:8080/"
        },
        "id": "387wJ04yJ3C9",
        "outputId": "af6a7e48-3be2-4896-995b-c9746d665207"
      },
      "execution_count": 21,
      "outputs": [
        {
          "output_type": "stream",
          "name": "stderr",
          "text": [
            "<ipython-input-21-323357526ed1>:4: SettingWithCopyWarning: \n",
            "A value is trying to be set on a copy of a slice from a DataFrame.\n",
            "Try using .loc[row_indexer,col_indexer] = value instead\n",
            "\n",
            "See the caveats in the documentation: https://pandas.pydata.org/pandas-docs/stable/user_guide/indexing.html#returning-a-view-versus-a-copy\n",
            "  df[\"day\"]=df[\"day\"].astype(str)\n"
          ]
        }
      ]
    },
    {
      "cell_type": "code",
      "source": [
        "list_cat_vars=[column for column in df.columns if df[column].dtype==object]\n",
        "print(\"categorical_columns: \\n\",list_cat_vars)\n"
      ],
      "metadata": {
        "colab": {
          "base_uri": "https://localhost:8080/"
        },
        "id": "WteFHlmeGunM",
        "outputId": "4a571d26-4c96-40cf-f145-b2b9962e77c3"
      },
      "execution_count": 22,
      "outputs": [
        {
          "output_type": "stream",
          "name": "stdout",
          "text": [
            "categorical_columns: \n",
            " ['job', 'marital', 'education_qual', 'call_type', 'day', 'mon', 'prev_outcome', 'y']\n"
          ]
        }
      ]
    },
    {
      "cell_type": "code",
      "source": [
        "for i in list_cat_vars:\n",
        "  print(type(i))"
      ],
      "metadata": {
        "colab": {
          "base_uri": "https://localhost:8080/"
        },
        "id": "Qpz3GRCQ9RSw",
        "outputId": "7b457c5d-08c2-4855-abcb-a6409b3b69b4"
      },
      "execution_count": 25,
      "outputs": [
        {
          "output_type": "stream",
          "name": "stdout",
          "text": [
            "<class 'str'>\n",
            "<class 'str'>\n",
            "<class 'str'>\n",
            "<class 'str'>\n",
            "<class 'str'>\n",
            "<class 'str'>\n",
            "<class 'str'>\n",
            "<class 'str'>\n"
          ]
        }
      ]
    },
    {
      "cell_type": "code",
      "source": [
        "#job,marital,education_qual,call_type,prev_outcome mon\n",
        "#list_cat_vars\n",
        "\n",
        "#for categorical columns\n",
        "plots=431\n",
        "sns.set_theme(style='darkgrid',palette='pastel')\n",
        "plt.figure(figsize=(20,25))\n",
        "list_cat_vars.remove(\"y\")\n",
        "\n",
        "for cat_column in list_cat_vars:\n",
        "\n",
        "      plt.subplot(plots)\n",
        "      sns.set(style=\"darkgrid\")\n",
        "      sns.countplot(x=cat_column,hue=\"y\",data=df)\n",
        "      plt.xlabel(cat_column, color=\"blue\")\n",
        "      plt.ylabel(\"result\", color=\"red\")\n",
        "      plots+=1\n",
        "      if cat_column==\"day\":\n",
        "          plt.xticks(rotation=90)\n",
        "      if cat_column==\"num_calls\":\n",
        "          plt.xlim(0,4)\n",
        "      if cat_column==\"job\":\n",
        "          plt.xticks(rotation=90)\n",
        "      if cat_column==\"job\":\n",
        "          plt.xticks(rotation=90)\n",
        "plt.tight_layout()\n",
        "plt.show()\n"
      ],
      "metadata": {
        "colab": {
          "base_uri": "https://localhost:8080/",
          "height": 1000
        },
        "id": "2RkU5aGUJ_Jw",
        "outputId": "1a8997c1-2f09-4f95-a990-79a5bd342cbf"
      },
      "execution_count": 27,
      "outputs": [
        {
          "output_type": "display_data",
          "data": {
            "text/plain": [
              "<Figure size 2000x2500 with 7 Axes>"
            ],
            "image/png": "[encoded data removed]"
          },
          "metadata": {}
        }
      ]
    },
    {
      "cell_type": "code",
      "source": [
        "list_cat_vars\n"
      ],
      "metadata": {
        "colab": {
          "base_uri": "https://localhost:8080/"
        },
        "id": "p4fRYIzpMfsb",
        "outputId": "73163729-46ba-4112-e762-d0e6e8ce8a21"
      },
      "execution_count": null,
      "outputs": [
        {
          "output_type": "execute_result",
          "data": {
            "text/plain": [
              "['job',\n",
              " 'marital',\n",
              " 'education_qual',\n",
              " 'call_type',\n",
              " 'day',\n",
              " 'mon',\n",
              " 'prev_outcome',\n",
              " 'y']"
            ]
          },
          "metadata": {},
          "execution_count": 433
        }
      ]
    },
    {
      "cell_type": "markdown",
      "source": [
        "from the plots we can understand that change in categorical variable has some amount of impact on target variable"
      ],
      "metadata": {
        "id": "qczmt1vZCp9A"
      }
    },
    {
      "cell_type": "markdown",
      "metadata": {
        "id": "9Apz5yFWojHC"
      },
      "source": [
        "CONTINOUS VARIABLE VS TARGET VARIABLE"
      ]
    },
    {
      "cell_type": "code",
      "execution_count": 29,
      "metadata": {
        "id": "H7YVfmKXoR_u",
        "colab": {
          "base_uri": "https://localhost:8080/"
        },
        "outputId": "17f2d837-9284-4c96-bab7-2f9730cf644f"
      },
      "outputs": [
        {
          "output_type": "stream",
          "name": "stdout",
          "text": [
            "['age', 'dur', 'num_calls']\n"
          ]
        }
      ],
      "source": [
        "list_con_vars=[column for column in df.columns if df[column].dtype==\"int64\"]\n",
        "print(list_con_vars)"
      ]
    },
    {
      "cell_type": "markdown",
      "source": [
        "**REMOVING OUTLIERS**"
      ],
      "metadata": {
        "id": "iKGRrdwLCrdD"
      }
    },
    {
      "cell_type": "code",
      "source": [
        "for column in list_con_vars:\n",
        "    Q1 = df[f\"{column}\"].quantile(0.25)\n",
        "    Q3 = df[f\"{column}\"].quantile(0.75)\n",
        "    IQR = Q3 - Q1\n",
        "    threshold = 1.5 * IQR\n",
        "\n",
        "    df_new = df[(df[f\"{column}\"] >= Q1 - threshold) & (df[f\"{column}\"] <= Q3 + threshold)]\n",
        "    removed_rows = df[~df.index.isin(df_new.index)]\n",
        "    num_removed = len(removed_rows)\n",
        "\n",
        "    print(f\"Column: {column}\")\n",
        "    print(f\"Number of removed rows: {num_removed}\")\n",
        "    print(\"*\"*30)\n",
        "    print(\"\\n\")\n",
        "  \n",
        "        #print(removed_rows)\n",
        "    #print(f\"Unique values after removing outliers: {df_new[f'{column}'].unique()}\\n\")\n"
      ],
      "metadata": {
        "colab": {
          "base_uri": "https://localhost:8080/"
        },
        "id": "T9h4zZCKBh5J",
        "outputId": "89c014bc-24b8-443d-e5a9-ff13ad883b8e"
      },
      "execution_count": 53,
      "outputs": [
        {
          "output_type": "stream",
          "name": "stdout",
          "text": [
            "Column: age\n",
            "Number of removed rows: 487\n",
            "******************************\n",
            "\n",
            "\n",
            "Column: dur\n",
            "Number of removed rows: 3235\n",
            "******************************\n",
            "\n",
            "\n",
            "Column: num_calls\n",
            "Number of removed rows: 3064\n",
            "******************************\n",
            "\n",
            "\n"
          ]
        }
      ]
    },
    {
      "cell_type": "code",
      "source": [
        "list_con_vars.append(\"num_calls\")"
      ],
      "metadata": {
        "id": "Wa9CuR4OCTtI"
      },
      "execution_count": 51,
      "outputs": []
    },
    {
      "cell_type": "code",
      "execution_count": 54,
      "metadata": {
        "id": "neskAYFnot8Y",
        "colab": {
          "base_uri": "https://localhost:8080/",
          "height": 1000
        },
        "outputId": "22c72eb1-3ac7-4d29-bc19-a4767a52b43c"
      },
      "outputs": [
        {
          "output_type": "execute_result",
          "data": {
            "text/plain": [
              "<Axes: xlabel='num_calls', ylabel='count'>"
            ]
          },
          "metadata": {},
          "execution_count": 54
        },
        {
          "output_type": "display_data",
          "data": {
            "text/plain": [
              "<Figure size 2000x2500 with 3 Axes>"
            ],
            "image/png": "[encoded data removed]"
          },
          "metadata": {}
        }
      ],
      "source": [
        "#age,dur\n",
        "sns.set_theme(style='darkgrid',palette='pastel')\n",
        "plt.figure(figsize=(20,25))\n",
        "plots=431\n",
        "list_con_vars.remove(\"num_calls\")\n",
        "for column in list_con_vars:\n",
        "   plt.subplot(plots)\n",
        "   sns.countplot(x=column, hue=\"y\",data=df)\n",
        "   plt.xlim(20,35)\n",
        "   plots+=1\n",
        "\n",
        "plt.subplot(457)\n",
        "sns.countplot(x=\"num_calls\",hue=\"y\",data=df_new)\n"
      ]
    },
    {
      "cell_type": "code",
      "source": [],
      "metadata": {
        "colab": {
          "base_uri": "https://localhost:8080/"
        },
        "id": "ZYl47-93_c5i",
        "outputId": "e16292e0-6206-48e1-8cd4-b97cabff49f8"
      },
      "execution_count": 39,
      "outputs": [
        {
          "output_type": "execute_result",
          "data": {
            "text/plain": [
              "array([1, 2, 3, 5, 4, 6])"
            ]
          },
          "metadata": {},
          "execution_count": 39
        }
      ]
    },
    {
      "cell_type": "code",
      "execution_count": null,
      "metadata": {
        "id": "AbWf4qt108rb",
        "colab": {
          "base_uri": "https://localhost:8080/",
          "height": 475
        },
        "outputId": "96662305-0543-4e9d-fad9-e6bb3edb984c"
      },
      "outputs": [
        {
          "output_type": "execute_result",
          "data": {
            "text/plain": [
              "<Axes: xlabel='dur', ylabel='y'>"
            ]
          },
          "metadata": {},
          "execution_count": 436
        },
        {
          "output_type": "display_data",
          "data": {
            "text/plain": [
              "<Figure size 640x480 with 1 Axes>"
            ],
            "image/png": "[encoded data removed]"
          },
          "metadata": {}
        }
      ],
      "source": [
        "sns.boxplot(x=\"dur\", y=\"y\", data=df)"
      ]
    },
    {
      "cell_type": "code",
      "execution_count": null,
      "metadata": {
        "id": "LSGT_9VOs-gg"
      },
      "outputs": [],
      "source": [
        "df[\"age\"].unique()\n",
        "df1=df\n"
      ]
    },
    {
      "cell_type": "code",
      "source": [
        "sns.set_palette(sns.color_palette(\"Set2\", 8))\n",
        "plt.figure(figsize=(5,5))\n",
        "sns.heatmap(df.corr(),annot=True)\n",
        "plt.show()"
      ],
      "metadata": {
        "id": "CVwGBhsnljGk",
        "colab": {
          "base_uri": "https://localhost:8080/",
          "height": 512
        },
        "outputId": "781a0595-46e3-4801-c67e-3c55913d2a27"
      },
      "execution_count": null,
      "outputs": [
        {
          "output_type": "stream",
          "name": "stderr",
          "text": [
            "<ipython-input-393-7a8eabd3751d>:3: FutureWarning: The default value of numeric_only in DataFrame.corr is deprecated. In a future version, it will default to False. Select only valid columns or specify the value of numeric_only to silence this warning.\n",
            "  sns.heatmap(df.corr(),annot=True)\n"
          ]
        },
        {
          "output_type": "display_data",
          "data": {
            "text/plain": [
              "<Figure size 500x500 with 2 Axes>"
            ],
            "image/png": "[encoded data removed]"
          },
          "metadata": {}
        }
      ]
    },
    {
      "cell_type": "code",
      "execution_count": null,
      "metadata": {
        "id": "ZEBF_E_Lia0-",
        "colab": {
          "base_uri": "https://localhost:8080/"
        },
        "outputId": "d31286bf-9feb-4e99-9f43-6b6aae03b470"
      },
      "outputs": [
        {
          "output_type": "stream",
          "name": "stdout",
          "text": [
            "Column \"age\" is divided into \"77\" categories.\n",
            "Column \"job\" is divided into \"11\" categories.\n",
            "Column \"marital\" is divided into \"3\" categories.\n",
            "Column \"education_qual\" is divided into \"3\" categories.\n",
            "Column \"call_type\" is divided into \"2\" categories.\n",
            "Column \"day\" is divided into \"31\" categories.\n",
            "Column \"mon\" is divided into \"12\" categories.\n",
            "Column \"dur\" is divided into \"1573\" categories.\n",
            "Column \"num_calls\" is divided into \"48\" categories.\n",
            "Column \"prev_outcome\" is divided into \"3\" categories.\n",
            "Column \"y\" is divided into \"2\" categories.\n"
          ]
        }
      ],
      "source": [
        "for i in df.columns:\n",
        "  print(f'Column \"{i}\" is divided into \"{len(df[i].value_counts())}\" categories.')"
      ]
    },
    {
      "cell_type": "code",
      "execution_count": null,
      "metadata": {
        "id": "VLrKA3ADioIk",
        "colab": {
          "base_uri": "https://localhost:8080/"
        },
        "outputId": "d02ba8c1-d8fe-4e5f-e5d2-eccfb62a6a69"
      },
      "outputs": [
        {
          "output_type": "execute_result",
          "data": {
            "text/plain": [
              "32    2083\n",
              "31    1995\n",
              "33    1971\n",
              "34    1929\n",
              "35    1893\n",
              "      ... \n",
              "93       2\n",
              "90       2\n",
              "95       2\n",
              "88       2\n",
              "94       1\n",
              "Name: age, Length: 77, dtype: int64"
            ]
          },
          "metadata": {},
          "execution_count": 395
        }
      ],
      "source": [
        "# for column \" age\"\n",
        "df['age'].value_counts()"
      ]
    },
    {
      "cell_type": "code",
      "execution_count": null,
      "metadata": {
        "id": "h7QeEfb5i1Zx",
        "colab": {
          "base_uri": "https://localhost:8080/"
        },
        "outputId": "0e2574cb-d5f9-467c-ce8a-04e3ec2f0211"
      },
      "outputs": [
        {
          "output_type": "execute_result",
          "data": {
            "text/plain": [
              "blue-collar      10016\n",
              "management        9456\n",
              "technician        7596\n",
              "admin.            5170\n",
              "services          4151\n",
              "retired           2264\n",
              "self-employed     1579\n",
              "entrepreneur      1487\n",
              "unemployed        1303\n",
              "housemaid         1240\n",
              "student            938\n",
              "Name: job, dtype: int64"
            ]
          },
          "metadata": {},
          "execution_count": 396
        }
      ],
      "source": [
        "# for column \"job\"\n",
        "df['job'].value_counts()"
      ]
    },
    {
      "cell_type": "code",
      "execution_count": null,
      "metadata": {
        "id": "1QGFI7TejDe3",
        "colab": {
          "base_uri": "https://localhost:8080/"
        },
        "outputId": "66846ca5-1535-47f2-9b5c-37466b544d38"
      },
      "outputs": [
        {
          "output_type": "execute_result",
          "data": {
            "text/plain": [
              "married     27207\n",
              "single      12786\n",
              "divorced     5207\n",
              "Name: marital, dtype: int64"
            ]
          },
          "metadata": {},
          "execution_count": 397
        }
      ],
      "source": [
        "# for column \"marital\"\n",
        "df['marital'].value_counts()"
      ]
    },
    {
      "cell_type": "code",
      "execution_count": null,
      "metadata": {
        "id": "0NfdLZhnjLDk",
        "colab": {
          "base_uri": "https://localhost:8080/"
        },
        "outputId": "003462fb-1260-4e0a-845a-a0b4c6042e76"
      },
      "outputs": [
        {
          "output_type": "execute_result",
          "data": {
            "text/plain": [
              "secondary    25053\n",
              "tertiary     13298\n",
              "primary       6849\n",
              "Name: education_qual, dtype: int64"
            ]
          },
          "metadata": {},
          "execution_count": 398
        }
      ],
      "source": [
        "# for column \"education_qual\"\n",
        "df['education_qual'].value_counts()"
      ]
    },
    {
      "cell_type": "code",
      "execution_count": null,
      "metadata": {
        "id": "HUgu9_YjjR4U",
        "colab": {
          "base_uri": "https://localhost:8080/"
        },
        "outputId": "76d40081-a028-4c09-ed80-52d14c0b9645"
      },
      "outputs": [
        {
          "output_type": "execute_result",
          "data": {
            "text/plain": [
              "cellular     42294\n",
              "telephone     2906\n",
              "Name: call_type, dtype: int64"
            ]
          },
          "metadata": {},
          "execution_count": 399
        }
      ],
      "source": [
        "# for column \"call_type\"\n",
        "df['call_type'].value_counts()"
      ]
    },
    {
      "cell_type": "code",
      "execution_count": null,
      "metadata": {
        "id": "bEU2duUJjYxK",
        "colab": {
          "base_uri": "https://localhost:8080/"
        },
        "outputId": "3287275e-b2cc-4923-f02a-2f5b02f1be6b"
      },
      "outputs": [
        {
          "output_type": "execute_result",
          "data": {
            "text/plain": [
              "20    2752\n",
              "18    2307\n",
              "21    2026\n",
              "17    1938\n",
              "6     1931\n",
              "5     1910\n",
              "14    1848\n",
              "8     1840\n",
              "28    1829\n",
              "7     1816\n",
              "19    1756\n",
              "29    1745\n",
              "15    1702\n",
              "12    1603\n",
              "13    1585\n",
              "30    1566\n",
              "9     1560\n",
              "11    1479\n",
              "4     1445\n",
              "16    1415\n",
              "2     1292\n",
              "27    1121\n",
              "3     1079\n",
              "26    1035\n",
              "23     939\n",
              "22     905\n",
              "25     840\n",
              "31     643\n",
              "10     524\n",
              "24     447\n",
              "1      322\n",
              "Name: day, dtype: int64"
            ]
          },
          "metadata": {},
          "execution_count": 400
        }
      ],
      "source": [
        "# for column \"job\"\n",
        "df['day'].value_counts()"
      ]
    },
    {
      "cell_type": "code",
      "execution_count": null,
      "metadata": {
        "id": "dkLeMqSvjiwh",
        "colab": {
          "base_uri": "https://localhost:8080/"
        },
        "outputId": "6d1cfbf2-9c08-4504-c80c-dd4d960f6954"
      },
      "outputs": [
        {
          "output_type": "execute_result",
          "data": {
            "text/plain": [
              "may    13761\n",
              "jul     6894\n",
              "aug     6245\n",
              "jun     5339\n",
              "nov     3970\n",
              "apr     2931\n",
              "feb     2649\n",
              "jan     1403\n",
              "oct      738\n",
              "sep      579\n",
              "mar      477\n",
              "dec      214\n",
              "Name: mon, dtype: int64"
            ]
          },
          "metadata": {},
          "execution_count": 401
        }
      ],
      "source": [
        "# for column \"mon\"\n",
        "df['mon'].value_counts()"
      ]
    },
    {
      "cell_type": "code",
      "execution_count": null,
      "metadata": {
        "id": "9s1NF1mTjrjZ",
        "colab": {
          "base_uri": "https://localhost:8080/"
        },
        "outputId": "a760d096-72aa-47eb-fc50-49d0670be3b1"
      },
      "outputs": [
        {
          "output_type": "execute_result",
          "data": {
            "text/plain": [
              "Index(['age', 'job', 'marital', 'education_qual', 'call_type', 'day', 'mon',\n",
              "       'dur', 'num_calls', 'prev_outcome', 'y'],\n",
              "      dtype='object')"
            ]
          },
          "metadata": {},
          "execution_count": 402
        }
      ],
      "source": [
        "# for column \"dur\"\n",
        "df['dur'].value_counts()\n",
        "df.columns"
      ]
    },
    {
      "cell_type": "code",
      "execution_count": null,
      "metadata": {
        "id": "9-wYw5ePjwRz",
        "colab": {
          "base_uri": "https://localhost:8080/"
        },
        "outputId": "96392033-a526-4a97-aef6-a2cfb532f7b1"
      },
      "outputs": [
        {
          "output_type": "execute_result",
          "data": {
            "text/plain": [
              "1     17538\n",
              "2     12502\n",
              "3      5521\n",
              "4      3520\n",
              "5      1764\n",
              "6      1291\n",
              "7       735\n",
              "8       540\n",
              "9       327\n",
              "10      266\n",
              "11      201\n",
              "12      155\n",
              "13      133\n",
              "14       93\n",
              "15       84\n",
              "16       79\n",
              "17       69\n",
              "18       51\n",
              "19       44\n",
              "20       43\n",
              "21       35\n",
              "22       23\n",
              "25       22\n",
              "23       22\n",
              "24       20\n",
              "29       16\n",
              "28       16\n",
              "26       13\n",
              "31       12\n",
              "27       10\n",
              "32        9\n",
              "30        8\n",
              "33        6\n",
              "34        5\n",
              "36        4\n",
              "35        4\n",
              "43        3\n",
              "38        3\n",
              "37        2\n",
              "50        2\n",
              "41        2\n",
              "46        1\n",
              "58        1\n",
              "55        1\n",
              "63        1\n",
              "51        1\n",
              "39        1\n",
              "44        1\n",
              "Name: num_calls, dtype: int64"
            ]
          },
          "metadata": {},
          "execution_count": 403
        }
      ],
      "source": [
        "# for column \"num_calls\"\n",
        "df['num_calls'].value_counts()"
      ]
    },
    {
      "cell_type": "code",
      "execution_count": null,
      "metadata": {
        "id": "6eWDHTHSj6Kj",
        "colab": {
          "base_uri": "https://localhost:8080/"
        },
        "outputId": "8574e0fd-15e1-4103-c71f-d32573faa928"
      },
      "outputs": [
        {
          "output_type": "execute_result",
          "data": {
            "text/plain": [
              "failure    41849\n",
              "other       1840\n",
              "success     1511\n",
              "Name: prev_outcome, dtype: int64"
            ]
          },
          "metadata": {},
          "execution_count": 404
        }
      ],
      "source": [
        "# for column \"prev_outcome\"\n",
        "df['prev_outcome'].value_counts()"
      ]
    },
    {
      "cell_type": "code",
      "execution_count": null,
      "metadata": {
        "id": "zKF16bxOkBe5",
        "colab": {
          "base_uri": "https://localhost:8080/"
        },
        "outputId": "454efbc8-8938-49c2-f8b2-073c8ffaf221"
      },
      "outputs": [
        {
          "output_type": "execute_result",
          "data": {
            "text/plain": [
              "Index(['age', 'job', 'marital', 'education_qual', 'call_type', 'day', 'mon',\n",
              "       'dur', 'num_calls', 'prev_outcome', 'y'],\n",
              "      dtype='object')"
            ]
          },
          "metadata": {},
          "execution_count": 405
        }
      ],
      "source": [
        "# for column \"y\"\n",
        "df['y'].value_counts()\n",
        "df1=df\n",
        "df.columns"
      ]
    },
    {
      "cell_type": "code",
      "execution_count": null,
      "metadata": {
        "id": "kz791ACHkJsB",
        "colab": {
          "base_uri": "https://localhost:8080/"
        },
        "outputId": "5bdea991-07f0-46c5-8a57-42094d81c166"
      },
      "outputs": [
        {
          "output_type": "stream",
          "name": "stdout",
          "text": [
            "Empty DataFrame\n",
            "Columns: []\n",
            "Index: []\n"
          ]
        },
        {
          "output_type": "execute_result",
          "data": {
            "text/plain": [
              "Index(['age', 'day', 'dur', 'num_calls', 'job_encoded', 'marital_encoded',\n",
              "       'education_qual_encoded', 'call_type_encoded', 'mon_encoded',\n",
              "       'prev_outcome_encoded', 'y_encoded'],\n",
              "      dtype='object')"
            ]
          },
          "metadata": {},
          "execution_count": 406
        }
      ],
      "source": [
        "from sklearn.preprocessing import LabelEncoder\n",
        "import pandas as pd\n",
        "\n",
        "# Create a LabelEncoder object\n",
        "le = LabelEncoder()\n",
        "df1=pd.DataFrame()\n",
        "# Fit and transform the \"color\" column of the DataFrame\n",
        "df['job_encoded'] = le.fit_transform(df['job'])\n",
        "df['marital_encoded'] = le.fit_transform(df['marital'])\n",
        "df['education_qual_encoded'] = le.fit_transform(df['education_qual'])\n",
        "df['call_type_encoded'] = le.fit_transform(df['call_type'])\n",
        "df['mon_encoded'] = le.fit_transform(df['mon'])\n",
        "df['prev_outcome_encoded'] = le.fit_transform(df['prev_outcome'])\n",
        "df[\"y_encoded\"]=le.fit_transform(df[\"y\"])\n",
        "# Print the resulting DataFrame\n",
        "print(df1.head())\n",
        "\n",
        "df.drop(columns=['job', 'marital', 'education_qual', 'call_type','prev_outcome',\"mon\",\"y\"],inplace=True)\n",
        "\n",
        "\n",
        "df.columns\n"
      ]
    },
    {
      "cell_type": "code",
      "execution_count": null,
      "metadata": {
        "id": "OgD_MiKRlHYw",
        "colab": {
          "base_uri": "https://localhost:8080/"
        },
        "outputId": "066d37df-1343-4fd5-d7f8-8e046f9f0aeb"
      },
      "outputs": [
        {
          "output_type": "stream",
          "name": "stdout",
          "text": [
            "Accuracy: 0.8969026548672566\n",
            "Confusion matrix: [[7779  186]\n",
            " [ 746  329]]\n",
            "0.8957300884955752\n"
          ]
        },
        {
          "output_type": "stream",
          "name": "stderr",
          "text": [
            "/usr/local/lib/python3.10/dist-packages/sklearn/linear_model/_logistic.py:458: ConvergenceWarning: lbfgs failed to converge (status=1):\n",
            "STOP: TOTAL NO. of ITERATIONS REACHED LIMIT.\n",
            "\n",
            "Increase the number of iterations (max_iter) or scale the data as shown in:\n",
            "    https://scikit-learn.org/stable/modules/preprocessing.html\n",
            "Please also refer to the documentation for alternative solver options:\n",
            "    https://scikit-learn.org/stable/modules/linear_model.html#logistic-regression\n",
            "  n_iter_i = _check_optimize_result(\n"
          ]
        }
      ],
      "source": [
        "from sklearn.linear_model import LogisticRegression\n",
        "from sklearn.model_selection import train_test_split\n",
        "from sklearn.metrics import accuracy_score, confusion_matrix\n",
        "\n",
        "# Load your dataset into a pandas DataFrame or Numpy array\n",
        "X=df.drop(columns=\"y_encoded\",axis=1)\n",
        "y=df[\"y_encoded\"]\n",
        "# Split your dataset into training and testing sets\n",
        "X_train, X_test, y_train, y_test = train_test_split(X, y, test_size=0.2, random_state=42)\n",
        "\n",
        "# Create a logistic regression model object and fit it to the training data\n",
        "model = LogisticRegression()\n",
        "model.fit(X_train, y_train)\n",
        "\n",
        "# Make predictions on the test data\n",
        "y_pred = model.predict(X_test)\n",
        "\n",
        "# Evaluate the performance of the model using accuracy score and confusion matrix\n",
        "accuracy = accuracy_score(y_test, y_pred)\n",
        "confusion_matrix = confusion_matrix(y_test, y_pred)\n",
        "\n",
        "print(\"Accuracy:\", accuracy)\n",
        "print(\"Confusion matrix:\", confusion_matrix)\n",
        "print(model.score(X,y))\n"
      ]
    },
    {
      "cell_type": "code",
      "source": [
        "list_cat_vars_encoded=[column for column in df.columns if df[column].dtype==object]\n",
        "list_cat_vars_encoded"
      ],
      "metadata": {
        "colab": {
          "base_uri": "https://localhost:8080/"
        },
        "id": "pdd3nspqRm6p",
        "outputId": "727411b9-a20b-4f4e-cbbd-2e67c45602a7"
      },
      "execution_count": null,
      "outputs": [
        {
          "output_type": "execute_result",
          "data": {
            "text/plain": [
              "['day']"
            ]
          },
          "metadata": {},
          "execution_count": 408
        }
      ]
    },
    {
      "cell_type": "code",
      "source": [
        "import pandas as pd\n",
        "from scipy.stats import chi2_contingency\n",
        "\n",
        "# create a pandas dataframe with the categorical variables\n",
        "\n",
        "\n",
        "# create a contingency table of the two variables\n",
        "for column in list_cat_vars:\n",
        "      contingency_tab = pd.crosstab(df1[column], df1['y'])\n",
        "\n",
        "      # calculate the G-test statistic and p-value\n",
        "      g_stat, p_val, dof, expected_freq = chi2_contingency(contingency_tab)\n",
        "\n",
        "      # print the results\n",
        "      print(f\"G-Test Statistic for {column}: {g_stat:.2f}\")\n",
        "      print(f\"P-value (G-Test) for {column}: {p_val:.4f}\")\n",
        "      print(\"\\n\")\n",
        "\n",
        "\"\"\"\n",
        "In this case, the G-test statistic is 4341.70, which is a high value \n",
        "and suggests a significant association between 'prev_outcome' and 'y' variables. \n",
        "The p-value for the G-test is 0.0000, which is less than the typical significance level of 0.05\n",
        ". This indicates that the\n",
        " observed association is statistically significant\n",
        " , and we can reject the null hypothesis of independence between the two variables.\"\"\"\n"
      ],
      "metadata": {
        "id": "UhW76MSL0ggm",
        "colab": {
          "base_uri": "https://localhost:8080/",
          "height": 625
        },
        "outputId": "cbbb09ea-42ef-4f17-b97e-86e8a18604b0"
      },
      "execution_count": null,
      "outputs": [
        {
          "output_type": "stream",
          "name": "stdout",
          "text": [
            "G-Test Statistic for job: 829.99\n",
            "P-value (G-Test) for job: 0.0000\n",
            "\n",
            "\n",
            "G-Test Statistic for marital: 196.56\n",
            "P-value (G-Test) for marital: 0.0000\n",
            "\n",
            "\n",
            "G-Test Statistic for education_qual: 223.80\n",
            "P-value (G-Test) for education_qual: 0.0000\n",
            "\n",
            "\n",
            "G-Test Statistic for call_type: 8.71\n",
            "P-value (G-Test) for call_type: 0.0032\n",
            "\n",
            "\n",
            "G-Test Statistic for day: 573.65\n",
            "P-value (G-Test) for day: 0.0000\n",
            "\n",
            "\n",
            "G-Test Statistic for mon: 3060.85\n",
            "P-value (G-Test) for mon: 0.0000\n",
            "\n",
            "\n",
            "G-Test Statistic for prev_outcome: 4340.30\n",
            "P-value (G-Test) for prev_outcome: 0.0000\n",
            "\n",
            "\n",
            "G-Test Statistic for y: 45190.32\n",
            "P-value (G-Test) for y: 0.0000\n",
            "\n",
            "\n"
          ]
        },
        {
          "output_type": "execute_result",
          "data": {
            "text/plain": [
              "\"\\nIn this case, the G-test statistic is 4341.70, which is a high value \\nand suggests a significant association between 'prev_outcome' and 'y' variables. \\nThe p-value for the G-test is 0.0000, which is less than the typical significance level of 0.05\\n. This indicates that the\\n observed association is statistically significant\\n , and we can reject the null hypothesis of independence between the two variables.\""
            ],
            "application/vnd.google.colaboratory.intrinsic+json": {
              "type": "string"
            }
          },
          "metadata": {},
          "execution_count": 444
        }
      ]
    },
    {
      "cell_type": "code",
      "source": [
        "list_con_vars"
      ],
      "metadata": {
        "colab": {
          "base_uri": "https://localhost:8080/"
        },
        "id": "x3p6YHXqUNqP",
        "outputId": "9016d8f2-621f-46ad-e10a-0f88d9d551fe"
      },
      "execution_count": null,
      "outputs": [
        {
          "output_type": "execute_result",
          "data": {
            "text/plain": [
              "['age', 'dur', 'num_calls']"
            ]
          },
          "metadata": {},
          "execution_count": 440
        }
      ]
    },
    {
      "cell_type": "code",
      "source": [
        "import pandas as pd\n",
        "from scipy.stats import ttest_ind, f_oneway\n",
        "\n",
        "#df1[\"y\"]=df1[\"y\"].replace({\"1\":\"yes\",\"0\":\"no\"})\n",
        "# create a pandas dataframe with the continuous and categorical variables\n",
        "for column in list_con_vars:\n",
        "          # separate the continuous variable by the categories in the categorical variable\n",
        "          group_A = df.loc[df['y'] == 'yes', column]\n",
        "          group_B = df.loc[df['y'] == 'no', column]\n",
        "\n",
        "          # calculate the t-test statistic and p-value for the two groups\n",
        "          t_stat, p_val = ttest_ind(group_A, group_B)\n",
        "\n",
        "          # print the results\n",
        "          print(f\"T-Test Statistic: {t_stat:.2f}\")\n",
        "          print(f\"P-value (T-Test): {p_val:.4f}\")\n",
        "\n",
        "          # calculate the ANOVA F-statistic and p-value for the two groups\n",
        "          f_stat, p_val = f_oneway(group_A, group_B)\n",
        "\n",
        "          # print the results\n",
        "          print(f\"ANOVA F-Statistic for {column}: {f_stat:.2f}\")\n",
        "          print(f\"P-value (ANOVA) for {column}: {p_val:.4f}\")\n",
        "          print(\"\\n\")\n"
      ],
      "metadata": {
        "id": "8LkfJIoJ0WzX",
        "colab": {
          "base_uri": "https://localhost:8080/"
        },
        "outputId": "6182eb6a-0920-4bc6-e35f-2765da1b249a"
      },
      "execution_count": null,
      "outputs": [
        {
          "output_type": "stream",
          "name": "stdout",
          "text": [
            "T-Test Statistic: 5.34\n",
            "P-value (T-Test): 0.0000\n",
            "ANOVA F-Statistic for age: 28.48\n",
            "P-value (ANOVA) for age: 0.0000\n",
            "\n",
            "\n",
            "T-Test Statistic: 91.27\n",
            "P-value (T-Test): 0.0000\n",
            "ANOVA F-Statistic for dur: 8330.53\n",
            "P-value (ANOVA) for dur: 0.0000\n",
            "\n",
            "\n",
            "T-Test Statistic: -15.60\n",
            "P-value (T-Test): 0.0000\n",
            "ANOVA F-Statistic for num_calls: 243.50\n",
            "P-value (ANOVA) for num_calls: 0.0000\n",
            "\n",
            "\n"
          ]
        }
      ]
    },
    {
      "cell_type": "code",
      "source": [
        "from sklearn.metrics import roc_auc_score\n",
        "\n",
        "\n",
        "# Compute AUROC score\n",
        "auroc = roc_auc_score(y_test, y_pred)\n",
        "\n",
        "print('AUROC: %.3f' % auroc)\n",
        "\n"
      ],
      "metadata": {
        "id": "uM4GLB8jGT5w",
        "colab": {
          "base_uri": "https://localhost:8080/"
        },
        "outputId": "b2936d9d-a6e0-4e97-8d91-8206bd155589"
      },
      "execution_count": null,
      "outputs": [
        {
          "output_type": "stream",
          "name": "stdout",
          "text": [
            "AUROC: 0.641\n"
          ]
        }
      ]
    },
    {
      "cell_type": "code",
      "source": [],
      "metadata": {
        "id": "J74SYgTxPGgo"
      },
      "execution_count": null,
      "outputs": []
    },
    {
      "cell_type": "code",
      "source": [
        "df.head(1)"
      ],
      "metadata": {
        "id": "iOI32kBPRfqk"
      },
      "execution_count": null,
      "outputs": []
    },
    {
      "cell_type": "code",
      "source": [
        "df.dtypes"
      ],
      "metadata": {
        "id": "cKzbYlIrDScQ"
      },
      "execution_count": null,
      "outputs": []
    },
    {
      "cell_type": "code",
      "source": [
        "print(df1.isnull().sum(),df.isnull().sum())\n",
        "df.isnull().sum()"
      ],
      "metadata": {
        "id": "1nfG9Gc6CZan"
      },
      "execution_count": null,
      "outputs": []
    },
    {
      "cell_type": "code",
      "source": [
        "\n",
        "df.drop(columns=[y\", inplace=True)\n",
        "df.columns"
      ],
      "metadata": {
        "id": "q2gMgnXD_ASb"
      },
      "execution_count": null,
      "outputs": []
    },
    {
      "cell_type": "code",
      "source": [],
      "metadata": {
        "id": "kvFd4jlfpoUm"
      },
      "execution_count": null,
      "outputs": []
    }
  ],
  "metadata": {
    "colab": {
      "provenance": []
    },
    "kernelspec": {
      "display_name": "Python 3",
      "name": "python3"
    },
    "language_info": {
      "name": "python"
    }
  },
  "nbformat": 4,
  "nbformat_minor": 0
}