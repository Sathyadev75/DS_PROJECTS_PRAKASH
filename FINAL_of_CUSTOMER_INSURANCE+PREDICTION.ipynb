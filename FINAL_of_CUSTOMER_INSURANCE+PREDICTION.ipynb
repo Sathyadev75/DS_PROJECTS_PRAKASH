{
  "cells": [
    {
      "cell_type": "markdown",
      "metadata": {
        "id": "view-in-github",
        "colab_type": "text"
      },
      "source": [
        "<a href=\"https://colab.research.google.com/github/Sathyadev75/DS_PROJECTS_PRAKASH/blob/main/FINAL_of_CUSTOMER_INSURANCE%2BPREDICTION.ipynb\" target=\"_parent\"><img src=\"https://colab.research.google.com/assets/colab-badge.svg\" alt=\"Open In Colab\"/></a>"
      ]
    },
    {
      "cell_type": "code",
      "execution_count": 176,
      "metadata": {
        "id": "FCZdXMqGhEM8"
      },
      "outputs": [],
      "source": []
    },
    {
      "cell_type": "markdown",
      "metadata": {
        "id": "9q3PNa_P9AHB"
      },
      "source": [
        "\"\"\"Guvi Datathon 1.0\n",
        "Customer Conversion Prediction\n",
        "Problem Statement\n",
        "You are working for a new-age insurance company and employ\n",
        "multiple outreach plans to sell term insurance to your\n",
        "customers. Telephonic marketing campaigns still remain one of\n",
        "the most effective ways to reach out to people however they\n",
        "incur a lot of cost. Hence, it is important to identify the\n",
        "customers that are most likely to convert beforehand so that\n",
        "they can be specifically targeted via call. We are given the\n",
        "historical marketing data of the insurance company and are\n",
        "required to build a ML model that will predict if a client will\n",
        "subscribe to the insurance.\n",
        "Data\n",
        "The historical sales data is available as a compressed file here.\n",
        "Data\n",
        "Features:\n",
        "● age (numeric)\n",
        "● job : type of job\n",
        "● marital : marital status\n",
        "● educational_qual : education status\n",
        "● call_type : contact communication type\n",
        "● day: last contact day of the month (numeric)\n",
        "● mon: last contact month of year\n",
        "● dur: last contact duration, in seconds (numeric)\n",
        "● num_calls: number of contacts performed during this\n",
        "campaign and for this client\n",
        "● prev_outcome: outcome of the previous marketing\n",
        "campaign (categorical:\n",
        "\"unknown\",\"other\",\"failure\",\"success\")\n",
        "Output variable (desired target):\n",
        "● y - has the client subscribed to the insurance?\n",
        "Minimum Requirements\n",
        "It is not sufficient to just fit a model - the model must be\n",
        "analysed to find the important factors that contribute towards\n",
        "the price. AUROC must be used as a metric to evaluate the\n",
        "performance of the models\"\"\""
      ]
    },
    {
      "cell_type": "code",
      "execution_count": 177,
      "metadata": {
        "id": "GRmrNM-C9E-6"
      },
      "outputs": [],
      "source": [
        "#required packages\n",
        "\n",
        "import pandas as pd\n",
        "import numpy as np\n",
        "import statistics as st\n",
        "\n",
        "\n",
        "import matplotlib.pyplot as plt\n",
        "import seaborn as sns"
      ]
    },
    {
      "cell_type": "code",
      "execution_count": 178,
      "metadata": {
        "colab": {
          "base_uri": "https://localhost:8080/"
        },
        "id": "t4qB0u2DDPOg",
        "outputId": "88a1d804-61fa-43b5-bd7a-9a2ea1ae3d1b"
      },
      "outputs": [
        {
          "output_type": "stream",
          "name": "stdout",
          "text": [
            "Drive already mounted at /content/drive; to attempt to forcibly remount, call drive.mount(\"/content/drive\", force_remount=True).\n"
          ]
        }
      ],
      "source": [
        "from google.colab import drive\n",
        "drive.mount('/content/drive')"
      ]
    },
    {
      "cell_type": "code",
      "execution_count": 179,
      "metadata": {
        "colab": {
          "base_uri": "https://localhost:8080/",
          "height": 174
        },
        "id": "LbQNXWJH9Wfs",
        "outputId": "fb6a92d4-b5b7-482d-8055-d9c22ef0ac07"
      },
      "outputs": [
        {
          "output_type": "execute_result",
          "data": {
            "text/plain": [
              "   age           job  marital education_qual call_type  day  mon  dur  \\\n",
              "0   58    management  married       tertiary   unknown    5  may  261   \n",
              "1   44    technician   single      secondary   unknown    5  may  151   \n",
              "2   33  entrepreneur  married      secondary   unknown    5  may   76   \n",
              "3   47   blue-collar  married        unknown   unknown    5  may   92   \n",
              "\n",
              "   num_calls prev_outcome   y  \n",
              "0          1      unknown  no  \n",
              "1          1      unknown  no  \n",
              "2          1      unknown  no  \n",
              "3          1      unknown  no  "
            ],
            "text/html": [
              "\n",
              "  <div id=\"df-9fef7957-253b-4b6e-9124-4c5eee5aa0f0\">\n",
              "    <div class=\"colab-df-container\">\n",
              "      <div>\n",
              "<style scoped>\n",
              "    .dataframe tbody tr th:only-of-type {\n",
              "        vertical-align: middle;\n",
              "    }\n",
              "\n",
              "    .dataframe tbody tr th {\n",
              "        vertical-align: top;\n",
              "    }\n",
              "\n",
              "    .dataframe thead th {\n",
              "        text-align: right;\n",
              "    }\n",
              "</style>\n",
              "<table border=\"1\" class=\"dataframe\">\n",
              "  <thead>\n",
              "    <tr style=\"text-align: right;\">\n",
              "      <th></th>\n",
              "      <th>age</th>\n",
              "      <th>job</th>\n",
              "      <th>marital</th>\n",
              "      <th>education_qual</th>\n",
              "      <th>call_type</th>\n",
              "      <th>day</th>\n",
              "      <th>mon</th>\n",
              "      <th>dur</th>\n",
              "      <th>num_calls</th>\n",
              "      <th>prev_outcome</th>\n",
              "      <th>y</th>\n",
              "    </tr>\n",
              "  </thead>\n",
              "  <tbody>\n",
              "    <tr>\n",
              "      <th>0</th>\n",
              "      <td>58</td>\n",
              "      <td>management</td>\n",
              "      <td>married</td>\n",
              "      <td>tertiary</td>\n",
              "      <td>unknown</td>\n",
              "      <td>5</td>\n",
              "      <td>may</td>\n",
              "      <td>261</td>\n",
              "      <td>1</td>\n",
              "      <td>unknown</td>\n",
              "      <td>no</td>\n",
              "    </tr>\n",
              "    <tr>\n",
              "      <th>1</th>\n",
              "      <td>44</td>\n",
              "      <td>technician</td>\n",
              "      <td>single</td>\n",
              "      <td>secondary</td>\n",
              "      <td>unknown</td>\n",
              "      <td>5</td>\n",
              "      <td>may</td>\n",
              "      <td>151</td>\n",
              "      <td>1</td>\n",
              "      <td>unknown</td>\n",
              "      <td>no</td>\n",
              "    </tr>\n",
              "    <tr>\n",
              "      <th>2</th>\n",
              "      <td>33</td>\n",
              "      <td>entrepreneur</td>\n",
              "      <td>married</td>\n",
              "      <td>secondary</td>\n",
              "      <td>unknown</td>\n",
              "      <td>5</td>\n",
              "      <td>may</td>\n",
              "      <td>76</td>\n",
              "      <td>1</td>\n",
              "      <td>unknown</td>\n",
              "      <td>no</td>\n",
              "    </tr>\n",
              "    <tr>\n",
              "      <th>3</th>\n",
              "      <td>47</td>\n",
              "      <td>blue-collar</td>\n",
              "      <td>married</td>\n",
              "      <td>unknown</td>\n",
              "      <td>unknown</td>\n",
              "      <td>5</td>\n",
              "      <td>may</td>\n",
              "      <td>92</td>\n",
              "      <td>1</td>\n",
              "      <td>unknown</td>\n",
              "      <td>no</td>\n",
              "    </tr>\n",
              "  </tbody>\n",
              "</table>\n",
              "</div>\n",
              "      <button class=\"colab-df-convert\" onclick=\"convertToInteractive('df-9fef7957-253b-4b6e-9124-4c5eee5aa0f0')\"\n",
              "              title=\"Convert this dataframe to an interactive table.\"\n",
              "              style=\"display:none;\">\n",
              "        \n",
              "  <svg xmlns=\"http://www.w3.org/2000/svg\" height=\"24px\"viewBox=\"0 0 24 24\"\n",
              "       width=\"24px\">\n",
              "    <path d=\"M0 0h24v24H0V0z\" fill=\"none\"/>\n",
              "    <path d=\"M18.56 5.44l.94 2.06.94-2.06 2.06-.94-2.06-.94-.94-2.06-.94 2.06-2.06.94zm-11 1L8.5 8.5l.94-2.06 2.06-.94-2.06-.94L8.5 2.5l-.94 2.06-2.06.94zm10 10l.94 2.06.94-2.06 2.06-.94-2.06-.94-.94-2.06-.94 2.06-2.06.94z\"/><path d=\"M17.41 7.96l-1.37-1.37c-.4-.4-.92-.59-1.43-.59-.52 0-1.04.2-1.43.59L10.3 9.45l-7.72 7.72c-.78.78-.78 2.05 0 2.83L4 21.41c.39.39.9.59 1.41.59.51 0 1.02-.2 1.41-.59l7.78-7.78 2.81-2.81c.8-.78.8-2.07 0-2.86zM5.41 20L4 18.59l7.72-7.72 1.47 1.35L5.41 20z\"/>\n",
              "  </svg>\n",
              "      </button>\n",
              "      \n",
              "  <style>\n",
              "    .colab-df-container {\n",
              "      display:flex;\n",
              "      flex-wrap:wrap;\n",
              "      gap: 12px;\n",
              "    }\n",
              "\n",
              "    .colab-df-convert {\n",
              "      background-color: #E8F0FE;\n",
              "      border: none;\n",
              "      border-radius: 50%;\n",
              "      cursor: pointer;\n",
              "      display: none;\n",
              "      fill: #1967D2;\n",
              "      height: 32px;\n",
              "      padding: 0 0 0 0;\n",
              "      width: 32px;\n",
              "    }\n",
              "\n",
              "    .colab-df-convert:hover {\n",
              "      background-color: #E2EBFA;\n",
              "      box-shadow: 0px 1px 2px rgba(60, 64, 67, 0.3), 0px 1px 3px 1px rgba(60, 64, 67, 0.15);\n",
              "      fill: #174EA6;\n",
              "    }\n",
              "\n",
              "    [theme=dark] .colab-df-convert {\n",
              "      background-color: #3B4455;\n",
              "      fill: #D2E3FC;\n",
              "    }\n",
              "\n",
              "    [theme=dark] .colab-df-convert:hover {\n",
              "      background-color: #434B5C;\n",
              "      box-shadow: 0px 1px 3px 1px rgba(0, 0, 0, 0.15);\n",
              "      filter: drop-shadow(0px 1px 2px rgba(0, 0, 0, 0.3));\n",
              "      fill: #FFFFFF;\n",
              "    }\n",
              "  </style>\n",
              "\n",
              "      <script>\n",
              "        const buttonEl =\n",
              "          document.querySelector('#df-9fef7957-253b-4b6e-9124-4c5eee5aa0f0 button.colab-df-convert');\n",
              "        buttonEl.style.display =\n",
              "          google.colab.kernel.accessAllowed ? 'block' : 'none';\n",
              "\n",
              "        async function convertToInteractive(key) {\n",
              "          const element = document.querySelector('#df-9fef7957-253b-4b6e-9124-4c5eee5aa0f0');\n",
              "          const dataTable =\n",
              "            await google.colab.kernel.invokeFunction('convertToInteractive',\n",
              "                                                     [key], {});\n",
              "          if (!dataTable) return;\n",
              "\n",
              "          const docLinkHtml = 'Like what you see? Visit the ' +\n",
              "            '<a target=\"_blank\" href=https://colab.research.google.com/notebooks/data_table.ipynb>data table notebook</a>'\n",
              "            + ' to learn more about interactive tables.';\n",
              "          element.innerHTML = '';\n",
              "          dataTable['output_type'] = 'display_data';\n",
              "          await google.colab.output.renderOutput(dataTable, element);\n",
              "          const docLink = document.createElement('div');\n",
              "          docLink.innerHTML = docLinkHtml;\n",
              "          element.appendChild(docLink);\n",
              "        }\n",
              "      </script>\n",
              "    </div>\n",
              "  </div>\n",
              "  "
            ]
          },
          "metadata": {},
          "execution_count": 179
        }
      ],
      "source": [
        "#IMPORTNG DATAFRAME\n",
        "\n",
        "df=pd.read_csv(\"/content/drive/MyDrive/DATA SCIENCE PROJECTS/CUSTOMER INSURANCE PREDICTION/Customer Conversion Prediction - Customer Conversion Prediction.csv\")\n",
        "\n",
        "df1=df.head(4)\n",
        "df1"
      ]
    },
    {
      "cell_type": "code",
      "execution_count": 180,
      "metadata": {
        "colab": {
          "base_uri": "https://localhost:8080/"
        },
        "id": "NLDuuOpr-HhS",
        "outputId": "198a2614-ca72-422f-872d-a041e110d48b"
      },
      "outputs": [
        {
          "output_type": "stream",
          "name": "stdout",
          "text": [
            "<class 'pandas.core.frame.DataFrame'>\n",
            "RangeIndex: 45211 entries, 0 to 45210\n",
            "Data columns (total 11 columns):\n",
            " #   Column          Non-Null Count  Dtype \n",
            "---  ------          --------------  ----- \n",
            " 0   age             45211 non-null  int64 \n",
            " 1   job             45211 non-null  object\n",
            " 2   marital         45211 non-null  object\n",
            " 3   education_qual  45211 non-null  object\n",
            " 4   call_type       45211 non-null  object\n",
            " 5   day             45211 non-null  int64 \n",
            " 6   mon             45211 non-null  object\n",
            " 7   dur             45211 non-null  int64 \n",
            " 8   num_calls       45211 non-null  int64 \n",
            " 9   prev_outcome    45211 non-null  object\n",
            " 10  y               45211 non-null  object\n",
            "dtypes: int64(4), object(7)\n",
            "memory usage: 3.8+ MB\n"
          ]
        }
      ],
      "source": [
        "#checking null value\n",
        "df.info()"
      ]
    },
    {
      "cell_type": "markdown",
      "metadata": {
        "id": "G3-XpxPNDVX7"
      },
      "source": []
    },
    {
      "cell_type": "code",
      "execution_count": 181,
      "metadata": {
        "colab": {
          "base_uri": "https://localhost:8080/",
          "height": 174
        },
        "id": "zwE6qmrFjm76",
        "outputId": "77c60fd8-6447-4ff2-9fbe-2bbaced385ed"
      },
      "outputs": [
        {
          "output_type": "execute_result",
          "data": {
            "text/plain": [
              "             count        mean         std   min    25%    50%    75%     max\n",
              "age        45211.0   40.936210   10.618762  18.0   33.0   39.0   48.0    95.0\n",
              "day        45211.0   15.806419    8.322476   1.0    8.0   16.0   21.0    31.0\n",
              "dur        45211.0  258.163080  257.527812   0.0  103.0  180.0  319.0  4918.0\n",
              "num_calls  45211.0    2.763841    3.098021   1.0    1.0    2.0    3.0    63.0"
            ],
            "text/html": [
              "\n",
              "  <div id=\"df-bf60b832-feb3-446e-bcf4-2be9e0299451\">\n",
              "    <div class=\"colab-df-container\">\n",
              "      <div>\n",
              "<style scoped>\n",
              "    .dataframe tbody tr th:only-of-type {\n",
              "        vertical-align: middle;\n",
              "    }\n",
              "\n",
              "    .dataframe tbody tr th {\n",
              "        vertical-align: top;\n",
              "    }\n",
              "\n",
              "    .dataframe thead th {\n",
              "        text-align: right;\n",
              "    }\n",
              "</style>\n",
              "<table border=\"1\" class=\"dataframe\">\n",
              "  <thead>\n",
              "    <tr style=\"text-align: right;\">\n",
              "      <th></th>\n",
              "      <th>count</th>\n",
              "      <th>mean</th>\n",
              "      <th>std</th>\n",
              "      <th>min</th>\n",
              "      <th>25%</th>\n",
              "      <th>50%</th>\n",
              "      <th>75%</th>\n",
              "      <th>max</th>\n",
              "    </tr>\n",
              "  </thead>\n",
              "  <tbody>\n",
              "    <tr>\n",
              "      <th>age</th>\n",
              "      <td>45211.0</td>\n",
              "      <td>40.936210</td>\n",
              "      <td>10.618762</td>\n",
              "      <td>18.0</td>\n",
              "      <td>33.0</td>\n",
              "      <td>39.0</td>\n",
              "      <td>48.0</td>\n",
              "      <td>95.0</td>\n",
              "    </tr>\n",
              "    <tr>\n",
              "      <th>day</th>\n",
              "      <td>45211.0</td>\n",
              "      <td>15.806419</td>\n",
              "      <td>8.322476</td>\n",
              "      <td>1.0</td>\n",
              "      <td>8.0</td>\n",
              "      <td>16.0</td>\n",
              "      <td>21.0</td>\n",
              "      <td>31.0</td>\n",
              "    </tr>\n",
              "    <tr>\n",
              "      <th>dur</th>\n",
              "      <td>45211.0</td>\n",
              "      <td>258.163080</td>\n",
              "      <td>257.527812</td>\n",
              "      <td>0.0</td>\n",
              "      <td>103.0</td>\n",
              "      <td>180.0</td>\n",
              "      <td>319.0</td>\n",
              "      <td>4918.0</td>\n",
              "    </tr>\n",
              "    <tr>\n",
              "      <th>num_calls</th>\n",
              "      <td>45211.0</td>\n",
              "      <td>2.763841</td>\n",
              "      <td>3.098021</td>\n",
              "      <td>1.0</td>\n",
              "      <td>1.0</td>\n",
              "      <td>2.0</td>\n",
              "      <td>3.0</td>\n",
              "      <td>63.0</td>\n",
              "    </tr>\n",
              "  </tbody>\n",
              "</table>\n",
              "</div>\n",
              "      <button class=\"colab-df-convert\" onclick=\"convertToInteractive('df-bf60b832-feb3-446e-bcf4-2be9e0299451')\"\n",
              "              title=\"Convert this dataframe to an interactive table.\"\n",
              "              style=\"display:none;\">\n",
              "        \n",
              "  <svg xmlns=\"http://www.w3.org/2000/svg\" height=\"24px\"viewBox=\"0 0 24 24\"\n",
              "       width=\"24px\">\n",
              "    <path d=\"M0 0h24v24H0V0z\" fill=\"none\"/>\n",
              "    <path d=\"M18.56 5.44l.94 2.06.94-2.06 2.06-.94-2.06-.94-.94-2.06-.94 2.06-2.06.94zm-11 1L8.5 8.5l.94-2.06 2.06-.94-2.06-.94L8.5 2.5l-.94 2.06-2.06.94zm10 10l.94 2.06.94-2.06 2.06-.94-2.06-.94-.94-2.06-.94 2.06-2.06.94z\"/><path d=\"M17.41 7.96l-1.37-1.37c-.4-.4-.92-.59-1.43-.59-.52 0-1.04.2-1.43.59L10.3 9.45l-7.72 7.72c-.78.78-.78 2.05 0 2.83L4 21.41c.39.39.9.59 1.41.59.51 0 1.02-.2 1.41-.59l7.78-7.78 2.81-2.81c.8-.78.8-2.07 0-2.86zM5.41 20L4 18.59l7.72-7.72 1.47 1.35L5.41 20z\"/>\n",
              "  </svg>\n",
              "      </button>\n",
              "      \n",
              "  <style>\n",
              "    .colab-df-container {\n",
              "      display:flex;\n",
              "      flex-wrap:wrap;\n",
              "      gap: 12px;\n",
              "    }\n",
              "\n",
              "    .colab-df-convert {\n",
              "      background-color: #E8F0FE;\n",
              "      border: none;\n",
              "      border-radius: 50%;\n",
              "      cursor: pointer;\n",
              "      display: none;\n",
              "      fill: #1967D2;\n",
              "      height: 32px;\n",
              "      padding: 0 0 0 0;\n",
              "      width: 32px;\n",
              "    }\n",
              "\n",
              "    .colab-df-convert:hover {\n",
              "      background-color: #E2EBFA;\n",
              "      box-shadow: 0px 1px 2px rgba(60, 64, 67, 0.3), 0px 1px 3px 1px rgba(60, 64, 67, 0.15);\n",
              "      fill: #174EA6;\n",
              "    }\n",
              "\n",
              "    [theme=dark] .colab-df-convert {\n",
              "      background-color: #3B4455;\n",
              "      fill: #D2E3FC;\n",
              "    }\n",
              "\n",
              "    [theme=dark] .colab-df-convert:hover {\n",
              "      background-color: #434B5C;\n",
              "      box-shadow: 0px 1px 3px 1px rgba(0, 0, 0, 0.15);\n",
              "      filter: drop-shadow(0px 1px 2px rgba(0, 0, 0, 0.3));\n",
              "      fill: #FFFFFF;\n",
              "    }\n",
              "  </style>\n",
              "\n",
              "      <script>\n",
              "        const buttonEl =\n",
              "          document.querySelector('#df-bf60b832-feb3-446e-bcf4-2be9e0299451 button.colab-df-convert');\n",
              "        buttonEl.style.display =\n",
              "          google.colab.kernel.accessAllowed ? 'block' : 'none';\n",
              "\n",
              "        async function convertToInteractive(key) {\n",
              "          const element = document.querySelector('#df-bf60b832-feb3-446e-bcf4-2be9e0299451');\n",
              "          const dataTable =\n",
              "            await google.colab.kernel.invokeFunction('convertToInteractive',\n",
              "                                                     [key], {});\n",
              "          if (!dataTable) return;\n",
              "\n",
              "          const docLinkHtml = 'Like what you see? Visit the ' +\n",
              "            '<a target=\"_blank\" href=https://colab.research.google.com/notebooks/data_table.ipynb>data table notebook</a>'\n",
              "            + ' to learn more about interactive tables.';\n",
              "          element.innerHTML = '';\n",
              "          dataTable['output_type'] = 'display_data';\n",
              "          await google.colab.output.renderOutput(dataTable, element);\n",
              "          const docLink = document.createElement('div');\n",
              "          docLink.innerHTML = docLinkHtml;\n",
              "          element.appendChild(docLink);\n",
              "        }\n",
              "      </script>\n",
              "    </div>\n",
              "  </div>\n",
              "  "
            ]
          },
          "metadata": {},
          "execution_count": 181
        }
      ],
      "source": [
        "df.describe().T"
      ]
    },
    {
      "cell_type": "code",
      "execution_count": 182,
      "metadata": {
        "colab": {
          "base_uri": "https://localhost:8080/",
          "height": 458
        },
        "id": "FPtGKZO3j1g3",
        "outputId": "40079fe2-2d96-44d9-b80f-73a9a468f14c"
      },
      "outputs": [
        {
          "output_type": "display_data",
          "data": {
            "text/plain": [
              "<Figure size 640x480 with 1 Axes>"
            ],
            "image/png": "[encoded data removed]"
          },
          "metadata": {}
        }
      ],
      "source": [
        "sns.set_style('darkgrid')\n",
        "sns.countplot(data=df,x='y')\n",
        "plt.show()"
      ]
    },
    {
      "cell_type": "markdown",
      "metadata": {
        "id": "-PKBzLH-98pt"
      },
      "source": [
        "**DATA CLEANING**"
      ]
    },
    {
      "cell_type": "code",
      "execution_count": 183,
      "metadata": {
        "colab": {
          "base_uri": "https://localhost:8080/",
          "height": 174
        },
        "id": "Mr1-JNuz-FMR",
        "outputId": "9980fa05-eee8-442d-9931-b069bc49b126"
      },
      "outputs": [
        {
          "output_type": "execute_result",
          "data": {
            "text/plain": [
              "   age           job  marital education_qual call_type  day  mon  dur  \\\n",
              "0   58    management  married       tertiary   unknown    5  may  261   \n",
              "1   44    technician   single      secondary   unknown    5  may  151   \n",
              "2   33  entrepreneur  married      secondary   unknown    5  may   76   \n",
              "3   47   blue-collar  married        unknown   unknown    5  may   92   \n",
              "\n",
              "   num_calls prev_outcome   y  \n",
              "0          1      unknown  no  \n",
              "1          1      unknown  no  \n",
              "2          1      unknown  no  \n",
              "3          1      unknown  no  "
            ],
            "text/html": [
              "\n",
              "  <div id=\"df-15e6e0aa-686b-4651-8ed5-776378ddb359\">\n",
              "    <div class=\"colab-df-container\">\n",
              "      <div>\n",
              "<style scoped>\n",
              "    .dataframe tbody tr th:only-of-type {\n",
              "        vertical-align: middle;\n",
              "    }\n",
              "\n",
              "    .dataframe tbody tr th {\n",
              "        vertical-align: top;\n",
              "    }\n",
              "\n",
              "    .dataframe thead th {\n",
              "        text-align: right;\n",
              "    }\n",
              "</style>\n",
              "<table border=\"1\" class=\"dataframe\">\n",
              "  <thead>\n",
              "    <tr style=\"text-align: right;\">\n",
              "      <th></th>\n",
              "      <th>age</th>\n",
              "      <th>job</th>\n",
              "      <th>marital</th>\n",
              "      <th>education_qual</th>\n",
              "      <th>call_type</th>\n",
              "      <th>day</th>\n",
              "      <th>mon</th>\n",
              "      <th>dur</th>\n",
              "      <th>num_calls</th>\n",
              "      <th>prev_outcome</th>\n",
              "      <th>y</th>\n",
              "    </tr>\n",
              "  </thead>\n",
              "  <tbody>\n",
              "    <tr>\n",
              "      <th>0</th>\n",
              "      <td>58</td>\n",
              "      <td>management</td>\n",
              "      <td>married</td>\n",
              "      <td>tertiary</td>\n",
              "      <td>unknown</td>\n",
              "      <td>5</td>\n",
              "      <td>may</td>\n",
              "      <td>261</td>\n",
              "      <td>1</td>\n",
              "      <td>unknown</td>\n",
              "      <td>no</td>\n",
              "    </tr>\n",
              "    <tr>\n",
              "      <th>1</th>\n",
              "      <td>44</td>\n",
              "      <td>technician</td>\n",
              "      <td>single</td>\n",
              "      <td>secondary</td>\n",
              "      <td>unknown</td>\n",
              "      <td>5</td>\n",
              "      <td>may</td>\n",
              "      <td>151</td>\n",
              "      <td>1</td>\n",
              "      <td>unknown</td>\n",
              "      <td>no</td>\n",
              "    </tr>\n",
              "    <tr>\n",
              "      <th>2</th>\n",
              "      <td>33</td>\n",
              "      <td>entrepreneur</td>\n",
              "      <td>married</td>\n",
              "      <td>secondary</td>\n",
              "      <td>unknown</td>\n",
              "      <td>5</td>\n",
              "      <td>may</td>\n",
              "      <td>76</td>\n",
              "      <td>1</td>\n",
              "      <td>unknown</td>\n",
              "      <td>no</td>\n",
              "    </tr>\n",
              "    <tr>\n",
              "      <th>3</th>\n",
              "      <td>47</td>\n",
              "      <td>blue-collar</td>\n",
              "      <td>married</td>\n",
              "      <td>unknown</td>\n",
              "      <td>unknown</td>\n",
              "      <td>5</td>\n",
              "      <td>may</td>\n",
              "      <td>92</td>\n",
              "      <td>1</td>\n",
              "      <td>unknown</td>\n",
              "      <td>no</td>\n",
              "    </tr>\n",
              "  </tbody>\n",
              "</table>\n",
              "</div>\n",
              "      <button class=\"colab-df-convert\" onclick=\"convertToInteractive('df-15e6e0aa-686b-4651-8ed5-776378ddb359')\"\n",
              "              title=\"Convert this dataframe to an interactive table.\"\n",
              "              style=\"display:none;\">\n",
              "        \n",
              "  <svg xmlns=\"http://www.w3.org/2000/svg\" height=\"24px\"viewBox=\"0 0 24 24\"\n",
              "       width=\"24px\">\n",
              "    <path d=\"M0 0h24v24H0V0z\" fill=\"none\"/>\n",
              "    <path d=\"M18.56 5.44l.94 2.06.94-2.06 2.06-.94-2.06-.94-.94-2.06-.94 2.06-2.06.94zm-11 1L8.5 8.5l.94-2.06 2.06-.94-2.06-.94L8.5 2.5l-.94 2.06-2.06.94zm10 10l.94 2.06.94-2.06 2.06-.94-2.06-.94-.94-2.06-.94 2.06-2.06.94z\"/><path d=\"M17.41 7.96l-1.37-1.37c-.4-.4-.92-.59-1.43-.59-.52 0-1.04.2-1.43.59L10.3 9.45l-7.72 7.72c-.78.78-.78 2.05 0 2.83L4 21.41c.39.39.9.59 1.41.59.51 0 1.02-.2 1.41-.59l7.78-7.78 2.81-2.81c.8-.78.8-2.07 0-2.86zM5.41 20L4 18.59l7.72-7.72 1.47 1.35L5.41 20z\"/>\n",
              "  </svg>\n",
              "      </button>\n",
              "      \n",
              "  <style>\n",
              "    .colab-df-container {\n",
              "      display:flex;\n",
              "      flex-wrap:wrap;\n",
              "      gap: 12px;\n",
              "    }\n",
              "\n",
              "    .colab-df-convert {\n",
              "      background-color: #E8F0FE;\n",
              "      border: none;\n",
              "      border-radius: 50%;\n",
              "      cursor: pointer;\n",
              "      display: none;\n",
              "      fill: #1967D2;\n",
              "      height: 32px;\n",
              "      padding: 0 0 0 0;\n",
              "      width: 32px;\n",
              "    }\n",
              "\n",
              "    .colab-df-convert:hover {\n",
              "      background-color: #E2EBFA;\n",
              "      box-shadow: 0px 1px 2px rgba(60, 64, 67, 0.3), 0px 1px 3px 1px rgba(60, 64, 67, 0.15);\n",
              "      fill: #174EA6;\n",
              "    }\n",
              "\n",
              "    [theme=dark] .colab-df-convert {\n",
              "      background-color: #3B4455;\n",
              "      fill: #D2E3FC;\n",
              "    }\n",
              "\n",
              "    [theme=dark] .colab-df-convert:hover {\n",
              "      background-color: #434B5C;\n",
              "      box-shadow: 0px 1px 3px 1px rgba(0, 0, 0, 0.15);\n",
              "      filter: drop-shadow(0px 1px 2px rgba(0, 0, 0, 0.3));\n",
              "      fill: #FFFFFF;\n",
              "    }\n",
              "  </style>\n",
              "\n",
              "      <script>\n",
              "        const buttonEl =\n",
              "          document.querySelector('#df-15e6e0aa-686b-4651-8ed5-776378ddb359 button.colab-df-convert');\n",
              "        buttonEl.style.display =\n",
              "          google.colab.kernel.accessAllowed ? 'block' : 'none';\n",
              "\n",
              "        async function convertToInteractive(key) {\n",
              "          const element = document.querySelector('#df-15e6e0aa-686b-4651-8ed5-776378ddb359');\n",
              "          const dataTable =\n",
              "            await google.colab.kernel.invokeFunction('convertToInteractive',\n",
              "                                                     [key], {});\n",
              "          if (!dataTable) return;\n",
              "\n",
              "          const docLinkHtml = 'Like what you see? Visit the ' +\n",
              "            '<a target=\"_blank\" href=https://colab.research.google.com/notebooks/data_table.ipynb>data table notebook</a>'\n",
              "            + ' to learn more about interactive tables.';\n",
              "          element.innerHTML = '';\n",
              "          dataTable['output_type'] = 'display_data';\n",
              "          await google.colab.output.renderOutput(dataTable, element);\n",
              "          const docLink = document.createElement('div');\n",
              "          docLink.innerHTML = docLinkHtml;\n",
              "          element.appendChild(docLink);\n",
              "        }\n",
              "      </script>\n",
              "    </div>\n",
              "  </div>\n",
              "  "
            ]
          },
          "metadata": {},
          "execution_count": 183
        }
      ],
      "source": [
        "df1"
      ]
    },
    {
      "cell_type": "code",
      "execution_count": 184,
      "metadata": {
        "colab": {
          "base_uri": "https://localhost:8080/"
        },
        "id": "F_hLSQq9-inS",
        "outputId": "58be6298-648e-4c9c-9d9a-e125cb3df692"
      },
      "outputs": [
        {
          "output_type": "stream",
          "name": "stdout",
          "text": [
            "(45211, 11)\n",
            "➤ The DataFrame(df) contains 45211 rows and 11 columns.\n"
          ]
        },
        {
          "output_type": "execute_result",
          "data": {
            "text/plain": [
              "Index(['age', 'job', 'marital', 'education_qual', 'call_type', 'day', 'mon',\n",
              "       'dur', 'num_calls', 'prev_outcome', 'y'],\n",
              "      dtype='object')"
            ]
          },
          "metadata": {},
          "execution_count": 184
        }
      ],
      "source": [
        "#classification problem \n",
        "\n",
        "print(df.shape)\n",
        "print(f'➤ The DataFrame(df) contains {df.shape[0]} rows and {df.shape[1]} columns.')\n",
        "\n",
        "\n",
        "df.columns\n"
      ]
    },
    {
      "cell_type": "code",
      "execution_count": 185,
      "metadata": {
        "colab": {
          "base_uri": "https://localhost:8080/"
        },
        "id": "RNJgq3WfF-AY",
        "outputId": "b8283ff1-7211-4410-e360-47dc7a3fb36f"
      },
      "outputs": [
        {
          "output_type": "stream",
          "name": "stdout",
          "text": [
            "32    2085\n",
            "31    1996\n",
            "33    1972\n",
            "34    1930\n",
            "35    1894\n",
            "      ... \n",
            "93       2\n",
            "90       2\n",
            "95       2\n",
            "88       2\n",
            "94       1\n",
            "Name: age, Length: 77, dtype: int64\n",
            "blue-collar      9732\n",
            "management       9458\n",
            "technician       7597\n",
            "admin.           5171\n",
            "services         4154\n",
            "retired          2264\n",
            "self-employed    1579\n",
            "entrepreneur     1487\n",
            "unemployed       1303\n",
            "housemaid        1240\n",
            "student           938\n",
            "unknown           288\n",
            "Name: job, dtype: int64\n",
            "married     27214\n",
            "single      12790\n",
            "divorced     5207\n",
            "Name: marital, dtype: int64\n",
            "secondary    23202\n",
            "tertiary     13301\n",
            "primary       6851\n",
            "unknown       1857\n",
            "Name: education_qual, dtype: int64\n",
            "cellular     29285\n",
            "unknown      13020\n",
            "telephone     2906\n",
            "Name: call_type, dtype: int64\n",
            "20    2752\n",
            "18    2308\n",
            "21    2026\n",
            "17    1939\n",
            "6     1932\n",
            "5     1910\n",
            "14    1848\n",
            "8     1842\n",
            "28    1830\n",
            "7     1817\n",
            "19    1757\n",
            "29    1745\n",
            "15    1703\n",
            "12    1603\n",
            "13    1585\n",
            "30    1566\n",
            "9     1561\n",
            "11    1479\n",
            "4     1445\n",
            "16    1415\n",
            "2     1293\n",
            "27    1121\n",
            "3     1079\n",
            "26    1035\n",
            "23     939\n",
            "22     905\n",
            "25     840\n",
            "31     643\n",
            "10     524\n",
            "24     447\n",
            "1      322\n",
            "Name: day, dtype: int64\n",
            "may    13766\n",
            "jul     6895\n",
            "aug     6247\n",
            "jun     5341\n",
            "nov     3970\n",
            "apr     2932\n",
            "feb     2649\n",
            "jan     1403\n",
            "oct      738\n",
            "sep      579\n",
            "mar      477\n",
            "dec      214\n",
            "Name: mon, dtype: int64\n",
            "124     188\n",
            "90      184\n",
            "89      177\n",
            "104     175\n",
            "122     175\n",
            "       ... \n",
            "1833      1\n",
            "1545      1\n",
            "1352      1\n",
            "1342      1\n",
            "1556      1\n",
            "Name: dur, Length: 1573, dtype: int64\n",
            "1     17544\n",
            "2     12505\n",
            "3      5521\n",
            "4      3522\n",
            "5      1764\n",
            "6      1291\n",
            "7       735\n",
            "8       540\n",
            "9       327\n",
            "10      266\n",
            "11      201\n",
            "12      155\n",
            "13      133\n",
            "14       93\n",
            "15       84\n",
            "16       79\n",
            "17       69\n",
            "18       51\n",
            "19       44\n",
            "20       43\n",
            "21       35\n",
            "22       23\n",
            "25       22\n",
            "23       22\n",
            "24       20\n",
            "29       16\n",
            "28       16\n",
            "26       13\n",
            "31       12\n",
            "27       10\n",
            "32        9\n",
            "30        8\n",
            "33        6\n",
            "34        5\n",
            "36        4\n",
            "35        4\n",
            "43        3\n",
            "38        3\n",
            "37        2\n",
            "50        2\n",
            "41        2\n",
            "46        1\n",
            "58        1\n",
            "55        1\n",
            "63        1\n",
            "51        1\n",
            "39        1\n",
            "44        1\n",
            "Name: num_calls, dtype: int64\n",
            "unknown    36959\n",
            "failure     4901\n",
            "other       1840\n",
            "success     1511\n",
            "Name: prev_outcome, dtype: int64\n",
            "no     39922\n",
            "yes     5289\n",
            "Name: y, dtype: int64\n"
          ]
        }
      ],
      "source": [
        "list_columns=df.columns\n",
        "for column in list_columns:\n",
        "  print(df[column].value_counts())"
      ]
    },
    {
      "cell_type": "markdown",
      "metadata": {
        "id": "PpthzH4kGOxZ"
      },
      "source": [
        "since null values are present in string form \"unknown\" we need to replace it to null values and then filled not to loose th huge amount of values"
      ]
    },
    {
      "cell_type": "code",
      "execution_count": 186,
      "metadata": {
        "id": "5iHYVuA6_tdN"
      },
      "outputs": [],
      "source": [
        "df.columns\n",
        "#converting unknown values to None in which it will able to filled by numpy\n",
        "\n",
        "df[\"prev_outcome\"]=df[\"prev_outcome\"].replace({\"unknown\":None})\n",
        "\n",
        "df[\"job\"]=df[\"job\"].replace({\"unknown\":None})\n",
        "\n",
        "df[\"education_qual\"]=df[\"education_qual\"].replace({\"unknown\":None})\n",
        "\n",
        "df[\"call_type\"]=df[\"call_type\"].replace({\"unknown\":None})\n",
        "\n"
      ]
    },
    {
      "cell_type": "code",
      "execution_count": 187,
      "metadata": {
        "colab": {
          "base_uri": "https://localhost:8080/"
        },
        "id": "TYhzs6Cj_XZM",
        "outputId": "35b447ab-f256-4356-802f-069f99ca5482"
      },
      "outputs": [
        {
          "output_type": "execute_result",
          "data": {
            "text/plain": [
              "age                   0\n",
              "job                 288\n",
              "marital               0\n",
              "education_qual     1857\n",
              "call_type         13020\n",
              "day                   0\n",
              "mon                   0\n",
              "dur                   0\n",
              "num_calls             0\n",
              "prev_outcome      36959\n",
              "y                     0\n",
              "dtype: int64"
            ]
          },
          "metadata": {},
          "execution_count": 187
        }
      ],
      "source": [
        "df.isnull().sum()\n",
        "\n"
      ]
    },
    {
      "cell_type": "code",
      "execution_count": 188,
      "metadata": {
        "colab": {
          "base_uri": "https://localhost:8080/"
        },
        "id": "vXDZcQRKHu_u",
        "outputId": "32231218-c213-462d-cd7e-34c165ea9a05"
      },
      "outputs": [
        {
          "output_type": "stream",
          "name": "stdout",
          "text": [
            "failure    4901\n",
            "other      1840\n",
            "success    1511\n",
            "Name: prev_outcome, dtype: int64\n"
          ]
        }
      ],
      "source": [
        "#filling missing values using most frquent values in respective columns\n",
        "\n",
        "\n",
        "\n",
        "df[\"job\"]=df[\"job\"].replace({None:st.mode(df[\"job\"])})\n",
        "\n",
        "df[\"education_qual\"]=df[\"education_qual\"].replace({None:st.mode(df[\"education_qual\"])})\n",
        "\n",
        "df[\"call_type\"]=df[\"call_type\"].replace({None:st.mode(df[\"call_type\"])})\n",
        "\n",
        "\n",
        "#st.mode(df[\"prev_outcome\"])    #since mode is None we select other than this\n",
        "\n",
        "print(df[\"prev_outcome\"].value_counts())  #most occuriing element is elected other than None\n",
        "\n",
        "#from the count we get \"failure\" is most occured one  4901\n",
        "\n",
        "df[\"prev_outcome\"]=df[\"prev_outcome\"].replace({None:\"failure\"})\n",
        "\n"
      ]
    },
    {
      "cell_type": "code",
      "execution_count": 189,
      "metadata": {
        "id": "p6JfMwAcs6tz"
      },
      "outputs": [],
      "source": [
        "list=df.columns\n",
        "  "
      ]
    },
    {
      "cell_type": "code",
      "execution_count": 190,
      "metadata": {
        "colab": {
          "base_uri": "https://localhost:8080/"
        },
        "id": "dn2LsZAgxDuX",
        "outputId": "4a043473-0b48-4892-ed52-d125e41d1417"
      },
      "outputs": [
        {
          "output_type": "stream",
          "name": "stdout",
          "text": [
            "[58 44 33 47 35 28 42 43 41 29 53 57 51 45 60 56 32 25 40 39 52 46 36 49\n",
            " 59 37 50 54 55 48 24 38 31 30 27 34 23 26 61 22 21 20 66 62 83 75 67 70\n",
            " 65 68 64 69 72 71 19 76 85 63 90 82 73 74 78 80 94 79 77 86 95 81 18 89\n",
            " 84 87 92 93 88]\n",
            "['management' 'technician' 'entrepreneur' 'blue-collar' 'retired' 'admin.'\n",
            " 'services' 'self-employed' 'unemployed' 'housemaid' 'student']\n",
            "['married' 'single' 'divorced']\n",
            "['tertiary' 'secondary' 'primary']\n",
            "['cellular' 'telephone']\n",
            "[ 5  6  7  8  9 12 13 14 15 16 19 20 21 23 26 27 28 29 30  2  3  4 11 17\n",
            " 18 24 25  1 10 22 31]\n",
            "['may' 'jun' 'jul' 'aug' 'oct' 'nov' 'dec' 'jan' 'feb' 'mar' 'apr' 'sep']\n",
            "[ 261  151   76 ... 1298 1246 1556]\n",
            "[ 1  2  3  5  4  6  7  8  9 10 11 12 13 19 14 24 16 32 18 22 15 17 25 21\n",
            " 43 51 63 41 26 28 55 50 38 23 20 29 31 37 30 46 27 58 33 35 34 36 39 44]\n",
            "['failure' 'other' 'success']\n",
            "['no' 'yes']\n"
          ]
        }
      ],
      "source": [
        "for column in list:\n",
        "  print(df[column].unique()) "
      ]
    },
    {
      "cell_type": "markdown",
      "metadata": {
        "id": "SzESFipaOO8a"
      },
      "source": [
        "**verification of null value presence**"
      ]
    },
    {
      "cell_type": "code",
      "execution_count": 191,
      "metadata": {
        "colab": {
          "base_uri": "https://localhost:8080/"
        },
        "id": "OAzu8qfRS5lr",
        "outputId": "968b335c-c19a-41d1-9424-a5916e17bbeb"
      },
      "outputs": [
        {
          "output_type": "execute_result",
          "data": {
            "text/plain": [
              "age               0\n",
              "job               0\n",
              "marital           0\n",
              "education_qual    0\n",
              "call_type         0\n",
              "day               0\n",
              "mon               0\n",
              "dur               0\n",
              "num_calls         0\n",
              "prev_outcome      0\n",
              "y                 0\n",
              "dtype: int64"
            ]
          },
          "metadata": {},
          "execution_count": 191
        }
      ],
      "source": [
        "df.isnull().sum()\n",
        "\n"
      ]
    },
    {
      "cell_type": "code",
      "execution_count": 192,
      "metadata": {
        "id": "8ZHxeWn7TDlV"
      },
      "outputs": [],
      "source": [
        "df=df.drop_duplicates()\n"
      ]
    },
    {
      "cell_type": "code",
      "execution_count": 193,
      "metadata": {
        "colab": {
          "base_uri": "https://localhost:8080/"
        },
        "id": "mKLshnx2uoSt",
        "outputId": "92e5e3f7-f5d5-49e5-8d6a-6198843c1daf"
      },
      "outputs": [
        {
          "output_type": "execute_result",
          "data": {
            "text/plain": [
              "age                int64\n",
              "job               object\n",
              "marital           object\n",
              "education_qual    object\n",
              "call_type         object\n",
              "day                int64\n",
              "mon               object\n",
              "dur                int64\n",
              "num_calls          int64\n",
              "prev_outcome      object\n",
              "y                 object\n",
              "dtype: object"
            ]
          },
          "metadata": {},
          "execution_count": 193
        }
      ],
      "source": [
        "df.dtypes"
      ]
    },
    {
      "cell_type": "markdown",
      "metadata": {
        "id": "yxFFLzKUTqn4"
      },
      "source": [
        "DATA VISUALIZATION"
      ]
    },
    {
      "cell_type": "markdown",
      "metadata": {
        "id": "jHy-huXQT57N"
      },
      "source": [
        "CATEGORICAL VARIABLE\n"
      ]
    },
    {
      "cell_type": "code",
      "execution_count": 194,
      "metadata": {
        "id": "387wJ04yJ3C9"
      },
      "outputs": [],
      "source": [
        "#since day in month is also a categorical variable  \n",
        "# a distinct category within the range of possible values\n",
        "\n",
        "df[\"day\"]=df[\"day\"].astype(str)"
      ]
    },
    {
      "cell_type": "code",
      "execution_count": 195,
      "metadata": {
        "colab": {
          "base_uri": "https://localhost:8080/"
        },
        "id": "WteFHlmeGunM",
        "outputId": "6bc896ba-3a5d-425a-afd5-22567ab2c904"
      },
      "outputs": [
        {
          "output_type": "stream",
          "name": "stdout",
          "text": [
            "categorical_columns: \n",
            " ['job', 'marital', 'education_qual', 'call_type', 'day', 'mon', 'prev_outcome', 'y']\n"
          ]
        }
      ],
      "source": [
        "list_cat_vars=[column for column in df.columns if df[column].dtype==object]\n",
        "print(\"categorical_columns: \\n\",list_cat_vars)\n"
      ]
    },
    {
      "cell_type": "code",
      "execution_count": 196,
      "metadata": {
        "colab": {
          "base_uri": "https://localhost:8080/"
        },
        "id": "Qpz3GRCQ9RSw",
        "outputId": "6479f6b8-e18d-46e1-c789-91efe43cfb43"
      },
      "outputs": [
        {
          "output_type": "stream",
          "name": "stdout",
          "text": [
            "<class 'str'>\n",
            "<class 'str'>\n",
            "<class 'str'>\n",
            "<class 'str'>\n",
            "<class 'str'>\n",
            "<class 'str'>\n",
            "<class 'str'>\n",
            "<class 'str'>\n"
          ]
        }
      ],
      "source": [
        "for i in list_cat_vars:\n",
        "  print(type(i))"
      ]
    },
    {
      "cell_type": "code",
      "execution_count": 197,
      "metadata": {
        "colab": {
          "base_uri": "https://localhost:8080/",
          "height": 1000
        },
        "id": "2RkU5aGUJ_Jw",
        "outputId": "98483e84-4a21-4738-c700-ad4e9590e3a5"
      },
      "outputs": [
        {
          "output_type": "display_data",
          "data": {
            "text/plain": [
              "<Figure size 2000x2500 with 7 Axes>"
            ],
            "image/png": "[encoded data removed]"
          },
          "metadata": {}
        }
      ],
      "source": [
        "#job,marital,education_qual,call_type,prev_outcome mon\n",
        "#list_cat_vars\n",
        "\n",
        "#for categorical columns\n",
        "plots=431\n",
        "sns.set_theme(style='darkgrid',palette='pastel')\n",
        "plt.figure(figsize=(20,25))\n",
        "list_cat_vars.remove(\"y\")\n",
        "\n",
        "for cat_column in list_cat_vars:\n",
        "\n",
        "      plt.subplot(plots)\n",
        "      sns.set(style=\"darkgrid\")\n",
        "      sns.countplot(x=cat_column,hue=\"y\",data=df)\n",
        "      plt.xlabel(cat_column, color=\"blue\")\n",
        "      plt.ylabel(\"result\", color=\"red\")\n",
        "      plots+=1\n",
        "      if cat_column==\"day\":\n",
        "          plt.xticks(rotation=90)\n",
        "      if cat_column==\"num_calls\":\n",
        "          plt.xlim(0,4)\n",
        "      if cat_column==\"job\":\n",
        "          plt.xticks(rotation=90)\n",
        "      if cat_column==\"job\":\n",
        "          plt.xticks(rotation=90)\n",
        "plt.tight_layout()\n",
        "plt.show()\n"
      ]
    },
    {
      "cell_type": "code",
      "execution_count": 198,
      "metadata": {
        "colab": {
          "base_uri": "https://localhost:8080/"
        },
        "id": "p4fRYIzpMfsb",
        "outputId": "9a91fe19-7bbe-4464-8775-6df9f6267f5c"
      },
      "outputs": [
        {
          "output_type": "execute_result",
          "data": {
            "text/plain": [
              "['job', 'marital', 'education_qual', 'call_type', 'day', 'mon', 'prev_outcome']"
            ]
          },
          "metadata": {},
          "execution_count": 198
        }
      ],
      "source": [
        "#LIST OF CATEGORICAL COLUMNS\n",
        "list_cat_vars\n"
      ]
    },
    {
      "cell_type": "markdown",
      "metadata": {
        "id": "qczmt1vZCp9A"
      },
      "source": [
        "from the plots we can understand that change in categorical variable has some amount of impact on target variable"
      ]
    },
    {
      "cell_type": "markdown",
      "metadata": {
        "id": "9Apz5yFWojHC"
      },
      "source": [
        "CONTINOUS VARIABLE VS TARGET VARIABLE"
      ]
    },
    {
      "cell_type": "code",
      "execution_count": 199,
      "metadata": {
        "colab": {
          "base_uri": "https://localhost:8080/"
        },
        "id": "H7YVfmKXoR_u",
        "outputId": "a5e928e1-a588-4226-bf3a-91239330a10d"
      },
      "outputs": [
        {
          "output_type": "stream",
          "name": "stdout",
          "text": [
            "['age', 'dur', 'num_calls']\n"
          ]
        }
      ],
      "source": [
        "#LIST OF CONTINOUS COLUMNS\n",
        "\n",
        "list_con_vars=[column for column in df.columns if df[column].dtype==\"int64\"]\n",
        "print(list_con_vars)"
      ]
    },
    {
      "cell_type": "markdown",
      "metadata": {
        "id": "iKGRrdwLCrdD"
      },
      "source": [
        "**REMOVING OUTLIERS**"
      ]
    },
    {
      "cell_type": "code",
      "execution_count": 200,
      "metadata": {
        "colab": {
          "base_uri": "https://localhost:8080/"
        },
        "id": "2MVO6y_bOLQU",
        "outputId": "dccafeff-39fc-422d-95b0-f8e6bb8de229"
      },
      "outputs": [
        {
          "output_type": "execute_result",
          "data": {
            "text/plain": [
              "['age', 'dur', 'num_calls']"
            ]
          },
          "metadata": {},
          "execution_count": 200
        }
      ],
      "source": [
        "list_con_vars"
      ]
    },
    {
      "cell_type": "code",
      "execution_count": 201,
      "metadata": {
        "colab": {
          "base_uri": "https://localhost:8080/",
          "height": 475
        },
        "id": "Ct7B_BzNNZY0",
        "outputId": "8b04fc25-c875-4243-9e96-13ee13236d93"
      },
      "outputs": [
        {
          "output_type": "execute_result",
          "data": {
            "text/plain": [
              "<Axes: xlabel='num_calls', ylabel='count'>"
            ]
          },
          "metadata": {},
          "execution_count": 201
        },
        {
          "output_type": "display_data",
          "data": {
            "text/plain": [
              "<Figure size 640x480 with 1 Axes>"
            ],
            "image/png": "[encoded data removed]"
          },
          "metadata": {}
        }
      ],
      "source": [
        "import seaborn as sns\n",
        "\n",
        "# Calculate the IQR and define the outlier threshold\n",
        "Q1 = df[\"num_calls\"].quantile(0.25)\n",
        "Q3 = df[\"num_calls\"].quantile(0.75)\n",
        "IQR = Q3 - Q1\n",
        "threshold = 1.5 * IQR\n",
        "\n",
        "# Filter the data to remove outliers\n",
        "df_filtered = df[(df[\"num_calls\"] >= Q1 - threshold) & (df[\"num_calls\"] <= Q3 + threshold)]\n",
        "\n",
        "# Draw a countplot to visualize the filtered data\n",
        "sns.countplot(x=\"num_calls\", hue=\"y\", data=df_filtered)"
      ]
    },
    {
      "cell_type": "code",
      "execution_count": 202,
      "metadata": {
        "id": "okKwyv9O-Dif"
      },
      "outputs": [],
      "source": [
        "list_con_vars.remove(\"num_calls\")"
      ]
    },
    {
      "cell_type": "code",
      "execution_count": 203,
      "metadata": {
        "colab": {
          "base_uri": "https://localhost:8080/",
          "height": 524
        },
        "id": "neskAYFnot8Y",
        "outputId": "a2c95ced-23f1-4e51-8ca0-8c159f980a89"
      },
      "outputs": [
        {
          "output_type": "execute_result",
          "data": {
            "text/plain": [
              "(80.0, 100.0)"
            ]
          },
          "metadata": {},
          "execution_count": 203
        },
        {
          "output_type": "display_data",
          "data": {
            "text/plain": [
              "<Figure size 2000x2500 with 1 Axes>"
            ],
            "image/png": "[encoded data removed]"
          },
          "metadata": {}
        }
      ],
      "source": [
        "#age,dur\n",
        "sns.set_theme(style='darkgrid',palette='pastel')\n",
        "plt.figure(figsize=(20,25))\n",
        "plt.subplot(434)\n",
        "\n",
        "sns.countplot(x=\"dur\", hue=\"y\",data=df)\n",
        "plt.xlim(80,100)\n"
      ]
    },
    {
      "cell_type": "code",
      "execution_count": 204,
      "metadata": {
        "colab": {
          "base_uri": "https://localhost:8080/",
          "height": 365
        },
        "id": "ZYl47-93_c5i",
        "outputId": "1a85c59c-b89c-404c-a1ba-46ed5588eb35"
      },
      "outputs": [
        {
          "output_type": "display_data",
          "data": {
            "text/plain": [
              "<Figure size 2000x2500 with 3 Axes>"
            ],
            "image/png": "[encoded data removed]"
          },
          "metadata": {}
        }
      ],
      "source": [
        "import seaborn as sns\n",
        "import matplotlib.pyplot as plt\n",
        "\n",
        "# Set plot style and palette\n",
        "sns.set_theme(style='darkgrid',palette='pastel')\n",
        "\n",
        "# Create a new figure with a size of 20 inches by 25 inches\n",
        "plt.figure(figsize=(20,25))\n",
        "\n",
        "# Create first subplot with boxplot of \"age\" variable\n",
        "plt.subplot(4, 3, 4)\n",
        "sns.boxplot(x=\"age\", y=\"y\", data=df)\n",
        "\n",
        "# Create second subplot with boxplot of \"dur\" variable\n",
        "plt.subplot(4, 3,5)\n",
        "sns.boxplot(x=\"dur\", y=\"y\", data=df)\n",
        "\n",
        "# Create third subplot with boxplot of \"num_calls\" variable\n",
        "plt.subplot(4, 3, 6)\n",
        "sns.boxplot(x=\"num_calls\", y=\"y\", data=df)\n",
        "\n",
        "# Show the plot\n",
        "plt.show()\n"
      ]
    },
    {
      "cell_type": "code",
      "execution_count": 205,
      "metadata": {
        "id": "LSGT_9VOs-gg"
      },
      "outputs": [],
      "source": [
        "df[\"age\"].unique()\n",
        "df1=df\n"
      ]
    },
    {
      "cell_type": "code",
      "execution_count": 206,
      "metadata": {
        "id": "tNKWzQxLO5rt",
        "colab": {
          "base_uri": "https://localhost:8080/"
        },
        "outputId": "e8fdc867-f023-45e7-a149-3d7dca314a66"
      },
      "outputs": [
        {
          "output_type": "execute_result",
          "data": {
            "text/plain": [
              "Index(['age', 'job', 'marital', 'education_qual', 'call_type', 'day', 'mon',\n",
              "       'dur', 'num_calls', 'prev_outcome', 'y'],\n",
              "      dtype='object')"
            ]
          },
          "metadata": {},
          "execution_count": 206
        }
      ],
      "source": [
        "df.columns\n"
      ]
    },
    {
      "cell_type": "code",
      "execution_count": 207,
      "metadata": {
        "id": "ZEBF_E_Lia0-",
        "colab": {
          "base_uri": "https://localhost:8080/"
        },
        "outputId": "96735394-a679-4105-a3e9-454c1b895d97"
      },
      "outputs": [
        {
          "output_type": "stream",
          "name": "stdout",
          "text": [
            "Column \"age\" is divided into \"77\" categories.\n",
            "Column \"job\" is divided into \"11\" categories.\n",
            "Column \"marital\" is divided into \"3\" categories.\n",
            "Column \"education_qual\" is divided into \"3\" categories.\n",
            "Column \"call_type\" is divided into \"2\" categories.\n",
            "Column \"day\" is divided into \"31\" categories.\n",
            "Column \"mon\" is divided into \"12\" categories.\n",
            "Column \"dur\" is divided into \"1573\" categories.\n",
            "Column \"num_calls\" is divided into \"48\" categories.\n",
            "Column \"prev_outcome\" is divided into \"3\" categories.\n",
            "Column \"y\" is divided into \"2\" categories.\n"
          ]
        }
      ],
      "source": [
        "for i in df.columns:\n",
        "  print(f'Column \"{i}\" is divided into \"{len(df[i].value_counts())}\" categories.')"
      ]
    },
    {
      "cell_type": "code",
      "execution_count": 208,
      "metadata": {
        "id": "VLrKA3ADioIk",
        "colab": {
          "base_uri": "https://localhost:8080/"
        },
        "outputId": "c150193c-afb4-425a-86ea-39a8d640a214"
      },
      "outputs": [
        {
          "output_type": "execute_result",
          "data": {
            "text/plain": [
              "32    2083\n",
              "31    1995\n",
              "33    1971\n",
              "34    1929\n",
              "35    1893\n",
              "      ... \n",
              "93       2\n",
              "90       2\n",
              "95       2\n",
              "88       2\n",
              "94       1\n",
              "Name: age, Length: 77, dtype: int64"
            ]
          },
          "metadata": {},
          "execution_count": 208
        }
      ],
      "source": [
        "# for column \" age\"\n",
        "df['age'].value_counts()"
      ]
    },
    {
      "cell_type": "code",
      "execution_count": 209,
      "metadata": {
        "id": "h7QeEfb5i1Zx",
        "colab": {
          "base_uri": "https://localhost:8080/"
        },
        "outputId": "bc7ae6e7-be45-4404-c801-dffc8767934a"
      },
      "outputs": [
        {
          "output_type": "execute_result",
          "data": {
            "text/plain": [
              "blue-collar      10016\n",
              "management        9456\n",
              "technician        7596\n",
              "admin.            5170\n",
              "services          4151\n",
              "retired           2264\n",
              "self-employed     1579\n",
              "entrepreneur      1487\n",
              "unemployed        1303\n",
              "housemaid         1240\n",
              "student            938\n",
              "Name: job, dtype: int64"
            ]
          },
          "metadata": {},
          "execution_count": 209
        }
      ],
      "source": [
        "# for column \"job\"\n",
        "df['job'].value_counts()"
      ]
    },
    {
      "cell_type": "code",
      "execution_count": 210,
      "metadata": {
        "id": "1QGFI7TejDe3",
        "colab": {
          "base_uri": "https://localhost:8080/"
        },
        "outputId": "b19a8404-84fd-4756-e0b6-47f3c9b1eb2c"
      },
      "outputs": [
        {
          "output_type": "execute_result",
          "data": {
            "text/plain": [
              "married     27207\n",
              "single      12786\n",
              "divorced     5207\n",
              "Name: marital, dtype: int64"
            ]
          },
          "metadata": {},
          "execution_count": 210
        }
      ],
      "source": [
        "# for column \"marital\"\n",
        "df['marital'].value_counts()"
      ]
    },
    {
      "cell_type": "code",
      "execution_count": 211,
      "metadata": {
        "id": "0NfdLZhnjLDk",
        "colab": {
          "base_uri": "https://localhost:8080/"
        },
        "outputId": "bdc757d2-4f93-4220-b199-737095ba7eea"
      },
      "outputs": [
        {
          "output_type": "execute_result",
          "data": {
            "text/plain": [
              "secondary    25053\n",
              "tertiary     13298\n",
              "primary       6849\n",
              "Name: education_qual, dtype: int64"
            ]
          },
          "metadata": {},
          "execution_count": 211
        }
      ],
      "source": [
        "# for column \"education_qual\"\n",
        "df['education_qual'].value_counts()"
      ]
    },
    {
      "cell_type": "code",
      "execution_count": 212,
      "metadata": {
        "id": "HUgu9_YjjR4U",
        "colab": {
          "base_uri": "https://localhost:8080/"
        },
        "outputId": "9a219932-c6be-4167-cc3d-12ff40433efc"
      },
      "outputs": [
        {
          "output_type": "execute_result",
          "data": {
            "text/plain": [
              "cellular     42294\n",
              "telephone     2906\n",
              "Name: call_type, dtype: int64"
            ]
          },
          "metadata": {},
          "execution_count": 212
        }
      ],
      "source": [
        "# for column \"call_type\"\n",
        "df['call_type'].value_counts()"
      ]
    },
    {
      "cell_type": "code",
      "execution_count": 213,
      "metadata": {
        "id": "bEU2duUJjYxK",
        "colab": {
          "base_uri": "https://localhost:8080/"
        },
        "outputId": "8ba6164c-15a1-43fd-8eba-dcd10714d882"
      },
      "outputs": [
        {
          "output_type": "execute_result",
          "data": {
            "text/plain": [
              "20    2752\n",
              "18    2307\n",
              "21    2026\n",
              "17    1938\n",
              "6     1931\n",
              "5     1910\n",
              "14    1848\n",
              "8     1840\n",
              "28    1829\n",
              "7     1816\n",
              "19    1756\n",
              "29    1745\n",
              "15    1702\n",
              "12    1603\n",
              "13    1585\n",
              "30    1566\n",
              "9     1560\n",
              "11    1479\n",
              "4     1445\n",
              "16    1415\n",
              "2     1292\n",
              "27    1121\n",
              "3     1079\n",
              "26    1035\n",
              "23     939\n",
              "22     905\n",
              "25     840\n",
              "31     643\n",
              "10     524\n",
              "24     447\n",
              "1      322\n",
              "Name: day, dtype: int64"
            ]
          },
          "metadata": {},
          "execution_count": 213
        }
      ],
      "source": [
        "# for column \"job\"\n",
        "df['day'].value_counts()"
      ]
    },
    {
      "cell_type": "code",
      "execution_count": 214,
      "metadata": {
        "id": "dkLeMqSvjiwh",
        "colab": {
          "base_uri": "https://localhost:8080/"
        },
        "outputId": "8f35e0c1-2d55-4511-cf9b-e3e9706da440"
      },
      "outputs": [
        {
          "output_type": "execute_result",
          "data": {
            "text/plain": [
              "may    13761\n",
              "jul     6894\n",
              "aug     6245\n",
              "jun     5339\n",
              "nov     3970\n",
              "apr     2931\n",
              "feb     2649\n",
              "jan     1403\n",
              "oct      738\n",
              "sep      579\n",
              "mar      477\n",
              "dec      214\n",
              "Name: mon, dtype: int64"
            ]
          },
          "metadata": {},
          "execution_count": 214
        }
      ],
      "source": [
        "# for column \"mon\"\n",
        "df['mon'].value_counts()"
      ]
    },
    {
      "cell_type": "code",
      "execution_count": 215,
      "metadata": {
        "colab": {
          "base_uri": "https://localhost:8080/"
        },
        "id": "9s1NF1mTjrjZ",
        "outputId": "9799405d-2028-4a48-9036-e765f1ce3177"
      },
      "outputs": [
        {
          "output_type": "execute_result",
          "data": {
            "text/plain": [
              "Index(['age', 'job', 'marital', 'education_qual', 'call_type', 'day', 'mon',\n",
              "       'dur', 'num_calls', 'prev_outcome', 'y'],\n",
              "      dtype='object')"
            ]
          },
          "metadata": {},
          "execution_count": 215
        }
      ],
      "source": [
        "# for column \"dur\"\n",
        "df['dur'].value_counts()\n",
        "df.columns"
      ]
    },
    {
      "cell_type": "code",
      "execution_count": 216,
      "metadata": {
        "colab": {
          "base_uri": "https://localhost:8080/"
        },
        "id": "9-wYw5ePjwRz",
        "outputId": "6e5489a7-f3fa-48e5-f255-37d313b1dd7f"
      },
      "outputs": [
        {
          "output_type": "execute_result",
          "data": {
            "text/plain": [
              "1     17538\n",
              "2     12502\n",
              "3      5521\n",
              "4      3520\n",
              "5      1764\n",
              "6      1291\n",
              "7       735\n",
              "8       540\n",
              "9       327\n",
              "10      266\n",
              "11      201\n",
              "12      155\n",
              "13      133\n",
              "14       93\n",
              "15       84\n",
              "16       79\n",
              "17       69\n",
              "18       51\n",
              "19       44\n",
              "20       43\n",
              "21       35\n",
              "22       23\n",
              "25       22\n",
              "23       22\n",
              "24       20\n",
              "29       16\n",
              "28       16\n",
              "26       13\n",
              "31       12\n",
              "27       10\n",
              "32        9\n",
              "30        8\n",
              "33        6\n",
              "34        5\n",
              "36        4\n",
              "35        4\n",
              "43        3\n",
              "38        3\n",
              "37        2\n",
              "50        2\n",
              "41        2\n",
              "46        1\n",
              "58        1\n",
              "55        1\n",
              "63        1\n",
              "51        1\n",
              "39        1\n",
              "44        1\n",
              "Name: num_calls, dtype: int64"
            ]
          },
          "metadata": {},
          "execution_count": 216
        }
      ],
      "source": [
        "# for column \"num_calls\"\n",
        "df['num_calls'].value_counts()"
      ]
    },
    {
      "cell_type": "code",
      "execution_count": 217,
      "metadata": {
        "colab": {
          "base_uri": "https://localhost:8080/"
        },
        "id": "6eWDHTHSj6Kj",
        "outputId": "369515c7-3210-4f60-8627-769ba8a5716a"
      },
      "outputs": [
        {
          "output_type": "execute_result",
          "data": {
            "text/plain": [
              "failure    41849\n",
              "other       1840\n",
              "success     1511\n",
              "Name: prev_outcome, dtype: int64"
            ]
          },
          "metadata": {},
          "execution_count": 217
        }
      ],
      "source": [
        "# for column \"prev_outcome\"\n",
        "df['prev_outcome'].value_counts()"
      ]
    },
    {
      "cell_type": "code",
      "execution_count": 218,
      "metadata": {
        "colab": {
          "base_uri": "https://localhost:8080/"
        },
        "id": "zKF16bxOkBe5",
        "outputId": "e27f5b93-0091-4770-fc39-f17b38dae7e9"
      },
      "outputs": [
        {
          "output_type": "execute_result",
          "data": {
            "text/plain": [
              "Index(['age', 'job', 'marital', 'education_qual', 'call_type', 'day', 'mon',\n",
              "       'dur', 'num_calls', 'prev_outcome', 'y'],\n",
              "      dtype='object')"
            ]
          },
          "metadata": {},
          "execution_count": 218
        }
      ],
      "source": [
        "# for column \"y\"\n",
        "df['y'].value_counts()\n",
        "df1=df\n",
        "df1.columns"
      ]
    },
    {
      "cell_type": "code",
      "source": [
        "import pandas as pd\n",
        "from scipy.stats import chi2_contingency\n",
        "\n",
        "# create a pandas dataframe with the categorical variables\n",
        "\n",
        "\n",
        "# create a contingency table of the two variables\n",
        "for column in list_cat_vars:\n",
        "      contingency_tab = pd.crosstab(df[column], df1['y'])\n",
        "\n",
        "      # calculate the G-test statistic and p-value\n",
        "      g_stat, p_val, dof, expected_freq = chi2_contingency(contingency_tab)\n",
        "\n",
        "      # print the results\n",
        "      print(f\"G-Test Statistic for {column}: {g_stat:.2f}\")\n",
        "      print(f\"P-value (G-Test) for {column}: {p_val:.4f}\")\n",
        "      print(\"\\n\")\n",
        "\n",
        "\"\"\"\n",
        "In this case, the G-test statistic is 4341.70, which is a high value \n",
        "and suggests a significant association between 'prev_outcome' and 'y' variables. \n",
        "The p-value for the G-test is 0.0000, which is less than the typical significance level of 0.05\n",
        ". This indicates that the\n",
        " observed association is statistically significant\n",
        " , and we can reject the null hypothesis of independence between the two variables.\"\"\"\n"
      ],
      "metadata": {
        "colab": {
          "base_uri": "https://localhost:8080/",
          "height": 556
        },
        "id": "QFgAz4h-YXKy",
        "outputId": "e77c78f3-cb85-4475-f397-d989a7bfadb5"
      },
      "execution_count": 219,
      "outputs": [
        {
          "output_type": "stream",
          "name": "stdout",
          "text": [
            "G-Test Statistic for job: 829.99\n",
            "P-value (G-Test) for job: 0.0000\n",
            "\n",
            "\n",
            "G-Test Statistic for marital: 196.56\n",
            "P-value (G-Test) for marital: 0.0000\n",
            "\n",
            "\n",
            "G-Test Statistic for education_qual: 223.80\n",
            "P-value (G-Test) for education_qual: 0.0000\n",
            "\n",
            "\n",
            "G-Test Statistic for call_type: 8.71\n",
            "P-value (G-Test) for call_type: 0.0032\n",
            "\n",
            "\n",
            "G-Test Statistic for day: 573.65\n",
            "P-value (G-Test) for day: 0.0000\n",
            "\n",
            "\n",
            "G-Test Statistic for mon: 3060.85\n",
            "P-value (G-Test) for mon: 0.0000\n",
            "\n",
            "\n",
            "G-Test Statistic for prev_outcome: 4340.30\n",
            "P-value (G-Test) for prev_outcome: 0.0000\n",
            "\n",
            "\n"
          ]
        },
        {
          "output_type": "execute_result",
          "data": {
            "text/plain": [
              "\"\\nIn this case, the G-test statistic is 4341.70, which is a high value \\nand suggests a significant association between 'prev_outcome' and 'y' variables. \\nThe p-value for the G-test is 0.0000, which is less than the typical significance level of 0.05\\n. This indicates that the\\n observed association is statistically significant\\n , and we can reject the null hypothesis of independence between the two variables.\""
            ],
            "application/vnd.google.colaboratory.intrinsic+json": {
              "type": "string"
            }
          },
          "metadata": {},
          "execution_count": 219
        }
      ]
    },
    {
      "cell_type": "markdown",
      "source": [],
      "metadata": {
        "id": "ISW6Uv3gaLwq"
      }
    },
    {
      "cell_type": "markdown",
      "source": [
        " null hypothesis: there is no association between two columns\n",
        "\n",
        "The p value is less than 0.05 it reject null hypothesis\n",
        "\n",
        "It means that there is strong evidence that there is a significant association between the columns "
      ],
      "metadata": {
        "id": "fYy_PPSmZMx0"
      }
    },
    {
      "cell_type": "markdown",
      "source": [
        "the variables with higher G-test statistic values (prev_outcome, mon, day, education_qual) have a stronger association with the outcome than the variables with lower values (call_type, job, marital)."
      ],
      "metadata": {
        "id": "3Hmgm5CHaPfo"
      }
    },
    {
      "cell_type": "code",
      "source": [
        "import pandas as pd\n",
        "from scipy.stats import ttest_ind, f_oneway\n",
        "\n",
        "#df1[\"y\"]=df1[\"y\"].replace({\"1\":\"yes\",\"0\":\"no\"})\n",
        "# create a pandas dataframe with the continuous and categorical variables\n",
        "for column in list_con_vars:\n",
        "          # separate the continuous variable by the categories in the categorical variable\n",
        "          group_A = df.loc[df['y'] == 'yes', column]\n",
        "          group_B = df.loc[df['y'] == 'no', column]\n",
        "\n",
        "          # calculate the t-test statistic and p-value for the two groups\n",
        "          t_stat, p_val = ttest_ind(group_A, group_B)\n",
        "\n",
        "          # print the results\n",
        "          print(f\"T-Test Statistic: {t_stat:.2f}\")\n",
        "          print(f\"P-value (T-Test): {p_val:.4f}\")\n",
        "\n",
        "          # calculate the ANOVA F-statistic and p-value for the two groups\n",
        "          f_stat, p_val = f_oneway(group_A, group_B)\n",
        "\n",
        "          # print the results\n",
        "          print(f\"ANOVA F-Statistic for {column}: {f_stat:.2f}\")\n",
        "          print(f\"P-value (ANOVA) for {column}: {p_val:.4f}\")\n",
        "          print(\"\\n\")\n"
      ],
      "metadata": {
        "colab": {
          "base_uri": "https://localhost:8080/"
        },
        "id": "ePAe1sB2ZGdv",
        "outputId": "5b7440b4-f720-4d77-c352-5aa6c7e7b08c"
      },
      "execution_count": 220,
      "outputs": [
        {
          "output_type": "stream",
          "name": "stdout",
          "text": [
            "T-Test Statistic: 5.34\n",
            "P-value (T-Test): 0.0000\n",
            "ANOVA F-Statistic for age: 28.48\n",
            "P-value (ANOVA) for age: 0.0000\n",
            "\n",
            "\n",
            "T-Test Statistic: 91.27\n",
            "P-value (T-Test): 0.0000\n",
            "ANOVA F-Statistic for dur: 8330.53\n",
            "P-value (ANOVA) for dur: 0.0000\n",
            "\n",
            "\n"
          ]
        }
      ]
    },
    {
      "cell_type": "markdown",
      "source": [
        " null hypothesis: there is no association between two columns\n",
        "\n",
        "The p value is less than 0.05 it reject null hypothesis\n",
        "\n",
        "It means that there is strong evidence that there is a significant association between the columns"
      ],
      "metadata": {
        "id": "Ygei2kL6ZW1m"
      }
    },
    {
      "cell_type": "markdown",
      "source": [
        "Based on the provided T-test and ANOVA results, the most important factor impacting the outcome variable appears to be the 'dur' variable, with the highest F-statistic value (8330.53) and a very low p-value (0.0000), indicating a strong association between 'dur' and the outcome variable"
      ],
      "metadata": {
        "id": "yptYpYEoa0mF"
      }
    },
    {
      "cell_type": "code",
      "execution_count": 221,
      "metadata": {
        "colab": {
          "base_uri": "https://localhost:8080/"
        },
        "id": "kz791ACHkJsB",
        "outputId": "85426693-2def-4327-b424-51ede01046d6"
      },
      "outputs": [
        {
          "output_type": "execute_result",
          "data": {
            "text/plain": [
              "Index(['age', 'dur', 'num_calls', 'job_encoded', 'marital_encoded',\n",
              "       'education_qual_encoded', 'call_type_encoded', 'mon_encoded',\n",
              "       'prev_outcome_encoded', 'y_encoded', 'day_encoded'],\n",
              "      dtype='object')"
            ]
          },
          "metadata": {},
          "execution_count": 221
        }
      ],
      "source": [
        "from sklearn.preprocessing import LabelEncoder\n",
        "import pandas as pd\n",
        "\n",
        "# Create a LabelEncoder object\n",
        "le = LabelEncoder()\n",
        "df1=pd.DataFrame()\n",
        "# Fit and transform the \"color\" column of the DataFrame\n",
        "df['job_encoded'] = le.fit_transform(df['job'])\n",
        "df['marital_encoded'] = le.fit_transform(df['marital'])\n",
        "df['education_qual_encoded'] = le.fit_transform(df['education_qual'])\n",
        "df['call_type_encoded'] = le.fit_transform(df['call_type'])\n",
        "df['mon_encoded'] = le.fit_transform(df['mon'])\n",
        "df['prev_outcome_encoded'] = le.fit_transform(df['prev_outcome'])\n",
        "df[\"y_encoded\"]=le.fit_transform(df[\"y\"])\n",
        "df[\"day_encoded\"]=le.fit_transform(df[\"day\"])\n",
        "# Print the resulting DataFrame\n",
        "\n",
        "\n",
        "df.drop(columns=['job', 'marital', 'education_qual', 'call_type','prev_outcome',\"mon\",\"y\",\"day\"],inplace=True)\n",
        "\n",
        "\n",
        "df.columns\n"
      ]
    },
    {
      "cell_type": "code",
      "execution_count": 222,
      "metadata": {
        "colab": {
          "base_uri": "https://localhost:8080/"
        },
        "id": "OgD_MiKRlHYw",
        "outputId": "aba7f0e3-17e9-42e9-ebe5-b0ee5e16c632"
      },
      "outputs": [
        {
          "output_type": "stream",
          "name": "stdout",
          "text": [
            "Accuracy: 0.8966814159292036\n",
            "Confusion matrix: [[7788  177]\n",
            " [ 757  318]]\n",
            "0.8956858407079646\n"
          ]
        },
        {
          "output_type": "stream",
          "name": "stderr",
          "text": [
            "/usr/local/lib/python3.10/dist-packages/sklearn/linear_model/_logistic.py:458: ConvergenceWarning: lbfgs failed to converge (status=1):\n",
            "STOP: TOTAL NO. of ITERATIONS REACHED LIMIT.\n",
            "\n",
            "Increase the number of iterations (max_iter) or scale the data as shown in:\n",
            "    https://scikit-learn.org/stable/modules/preprocessing.html\n",
            "Please also refer to the documentation for alternative solver options:\n",
            "    https://scikit-learn.org/stable/modules/linear_model.html#logistic-regression\n",
            "  n_iter_i = _check_optimize_result(\n"
          ]
        }
      ],
      "source": [
        "from sklearn.linear_model import LogisticRegression\n",
        "from sklearn.model_selection import train_test_split\n",
        "from sklearn.metrics import accuracy_score, confusion_matrix\n",
        "\n",
        "# Load your dataset into a pandas DataFrame or Numpy array\n",
        "X=df.drop(columns=\"y_encoded\",axis=1)\n",
        "y=df[\"y_encoded\"]\n",
        "# Split your dataset into training and testing sets\n",
        "X_train, X_test, y_train, y_test = train_test_split(X, y, test_size=0.2, random_state=42)\n",
        "\n",
        "# Create a logistic regression model object and fit it to the training data\n",
        "model = LogisticRegression()\n",
        "model.fit(X_train, y_train)\n",
        "\n",
        "# Make predictions on the test data\n",
        "y_pred = model.predict(X_test)\n",
        "\n",
        "# Evaluate the performance of the model using accuracy score and confusion matrix\n",
        "accuracy = accuracy_score(y_test, y_pred)\n",
        "confusion_matrix = confusion_matrix(y_test, y_pred)\n",
        "\n",
        "print(\"Accuracy:\", accuracy)\n",
        "print(\"Confusion matrix:\", confusion_matrix)\n",
        "print(model.score(X,y))\n"
      ]
    },
    {
      "cell_type": "code",
      "execution_count": 223,
      "metadata": {
        "id": "uM4GLB8jGT5w",
        "colab": {
          "base_uri": "https://localhost:8080/"
        },
        "outputId": "aeedbd7f-446f-408b-ed87-9a9513869470"
      },
      "outputs": [
        {
          "output_type": "stream",
          "name": "stdout",
          "text": [
            "AUROC: 0.637\n"
          ]
        }
      ],
      "source": [
        "from sklearn.metrics import roc_auc_score\n",
        "\n",
        "\n",
        "# Compute AUROC score\n",
        "auroc = roc_auc_score(y_test, y_pred)\n",
        "\n",
        "print('AUROC: %.3f' % auroc)\n",
        "\n"
      ]
    },
    {
      "cell_type": "code",
      "execution_count": 223,
      "metadata": {
        "id": "J74SYgTxPGgo"
      },
      "outputs": [],
      "source": []
    },
    {
      "cell_type": "code",
      "execution_count": 223,
      "metadata": {
        "id": "iOI32kBPRfqk"
      },
      "outputs": [],
      "source": []
    },
    {
      "cell_type": "code",
      "execution_count": 223,
      "metadata": {
        "id": "kvFd4jlfpoUm"
      },
      "outputs": [],
      "source": []
    }
  ],
  "metadata": {
    "colab": {
      "provenance": [],
      "mount_file_id": "1bnPzBAhxM5mpkPpWW06PEbmc-MA7ka_A",
      "authorship_tag": "ABX9TyO8nQqcb21kaIXEXcvlZpQV",
      "include_colab_link": true
    },
    "kernelspec": {
      "display_name": "Python 3",
      "name": "python3"
    },
    "language_info": {
      "name": "python"
    }
  },
  "nbformat": 4,
  "nbformat_minor": 0
}